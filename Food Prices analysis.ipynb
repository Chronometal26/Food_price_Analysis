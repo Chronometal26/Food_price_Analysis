{
 "cells": [
  {
   "cell_type": "markdown",
   "id": "fb96ae30",
   "metadata": {},
   "source": [
    "# Food Price Analysis"
   ]
  },
  {
   "cell_type": "code",
   "execution_count": 1,
   "id": "01690a2a",
   "metadata": {},
   "outputs": [],
   "source": [
    "import numpy as np\n",
    "import pandas as pd\n",
    "import matplotlib.pyplot as plt"
   ]
  },
  {
   "cell_type": "code",
   "execution_count": 2,
   "id": "f3493d03",
   "metadata": {},
   "outputs": [
    {
     "data": {
      "text/html": [
       "<div>\n",
       "<style scoped>\n",
       "    .dataframe tbody tr th:only-of-type {\n",
       "        vertical-align: middle;\n",
       "    }\n",
       "\n",
       "    .dataframe tbody tr th {\n",
       "        vertical-align: top;\n",
       "    }\n",
       "\n",
       "    .dataframe thead th {\n",
       "        text-align: right;\n",
       "    }\n",
       "</style>\n",
       "<table border=\"1\" class=\"dataframe\">\n",
       "  <thead>\n",
       "    <tr style=\"text-align: right;\">\n",
       "      <th></th>\n",
       "      <th>Country</th>\n",
       "      <th>Year</th>\n",
       "      <th>Month</th>\n",
       "      <th>Food Item</th>\n",
       "      <th>Unit of Measurement</th>\n",
       "      <th>Average Price</th>\n",
       "      <th>Currency</th>\n",
       "      <th>Price in USD</th>\n",
       "      <th>Availability</th>\n",
       "      <th>Quality</th>\n",
       "    </tr>\n",
       "  </thead>\n",
       "  <tbody>\n",
       "    <tr>\n",
       "      <th>0</th>\n",
       "      <td>Australia</td>\n",
       "      <td>2018</td>\n",
       "      <td>1</td>\n",
       "      <td>Bread</td>\n",
       "      <td>Loaf</td>\n",
       "      <td>2.20</td>\n",
       "      <td>AUD</td>\n",
       "      <td>1.47</td>\n",
       "      <td>1</td>\n",
       "      <td>High</td>\n",
       "    </tr>\n",
       "    <tr>\n",
       "      <th>1</th>\n",
       "      <td>Australia</td>\n",
       "      <td>2018</td>\n",
       "      <td>2</td>\n",
       "      <td>Bread</td>\n",
       "      <td>Loaf</td>\n",
       "      <td>2.20</td>\n",
       "      <td>AUD</td>\n",
       "      <td>1.48</td>\n",
       "      <td>1</td>\n",
       "      <td>High</td>\n",
       "    </tr>\n",
       "    <tr>\n",
       "      <th>2</th>\n",
       "      <td>Australia</td>\n",
       "      <td>2018</td>\n",
       "      <td>3</td>\n",
       "      <td>Bread</td>\n",
       "      <td>Loaf</td>\n",
       "      <td>2.20</td>\n",
       "      <td>AUD</td>\n",
       "      <td>1.48</td>\n",
       "      <td>1</td>\n",
       "      <td>High</td>\n",
       "    </tr>\n",
       "    <tr>\n",
       "      <th>3</th>\n",
       "      <td>Australia</td>\n",
       "      <td>2018</td>\n",
       "      <td>4</td>\n",
       "      <td>Bread</td>\n",
       "      <td>Loaf</td>\n",
       "      <td>2.21</td>\n",
       "      <td>AUD</td>\n",
       "      <td>1.48</td>\n",
       "      <td>1</td>\n",
       "      <td>High</td>\n",
       "    </tr>\n",
       "    <tr>\n",
       "      <th>4</th>\n",
       "      <td>Australia</td>\n",
       "      <td>2018</td>\n",
       "      <td>5</td>\n",
       "      <td>Bread</td>\n",
       "      <td>Loaf</td>\n",
       "      <td>2.21</td>\n",
       "      <td>AUD</td>\n",
       "      <td>1.48</td>\n",
       "      <td>1</td>\n",
       "      <td>High</td>\n",
       "    </tr>\n",
       "    <tr>\n",
       "      <th>...</th>\n",
       "      <td>...</td>\n",
       "      <td>...</td>\n",
       "      <td>...</td>\n",
       "      <td>...</td>\n",
       "      <td>...</td>\n",
       "      <td>...</td>\n",
       "      <td>...</td>\n",
       "      <td>...</td>\n",
       "      <td>...</td>\n",
       "      <td>...</td>\n",
       "    </tr>\n",
       "    <tr>\n",
       "      <th>1195</th>\n",
       "      <td>Canada</td>\n",
       "      <td>2022</td>\n",
       "      <td>8</td>\n",
       "      <td>Potatoes</td>\n",
       "      <td>1 Kg</td>\n",
       "      <td>3.17</td>\n",
       "      <td>CAD</td>\n",
       "      <td>2.41</td>\n",
       "      <td>1</td>\n",
       "      <td>High</td>\n",
       "    </tr>\n",
       "    <tr>\n",
       "      <th>1196</th>\n",
       "      <td>Canada</td>\n",
       "      <td>2022</td>\n",
       "      <td>9</td>\n",
       "      <td>Potatoes</td>\n",
       "      <td>1 Kg</td>\n",
       "      <td>3.18</td>\n",
       "      <td>CAD</td>\n",
       "      <td>2.42</td>\n",
       "      <td>1</td>\n",
       "      <td>High</td>\n",
       "    </tr>\n",
       "    <tr>\n",
       "      <th>1197</th>\n",
       "      <td>Canada</td>\n",
       "      <td>2022</td>\n",
       "      <td>10</td>\n",
       "      <td>Potatoes</td>\n",
       "      <td>1 Kg</td>\n",
       "      <td>3.20</td>\n",
       "      <td>CAD</td>\n",
       "      <td>2.43</td>\n",
       "      <td>1</td>\n",
       "      <td>High</td>\n",
       "    </tr>\n",
       "    <tr>\n",
       "      <th>1198</th>\n",
       "      <td>Canada</td>\n",
       "      <td>2022</td>\n",
       "      <td>11</td>\n",
       "      <td>Potatoes</td>\n",
       "      <td>1 Kg</td>\n",
       "      <td>3.21</td>\n",
       "      <td>CAD</td>\n",
       "      <td>2.44</td>\n",
       "      <td>1</td>\n",
       "      <td>High</td>\n",
       "    </tr>\n",
       "    <tr>\n",
       "      <th>1199</th>\n",
       "      <td>Canada</td>\n",
       "      <td>2022</td>\n",
       "      <td>12</td>\n",
       "      <td>Potatoes</td>\n",
       "      <td>1 Kg</td>\n",
       "      <td>3.22</td>\n",
       "      <td>CAD</td>\n",
       "      <td>2.45</td>\n",
       "      <td>1</td>\n",
       "      <td>High</td>\n",
       "    </tr>\n",
       "  </tbody>\n",
       "</table>\n",
       "<p>1200 rows × 10 columns</p>\n",
       "</div>"
      ],
      "text/plain": [
       "       Country   Year   Month  Food Item  Unit of Measurement  Average Price   \\\n",
       "0     Australia   2018       1      Bread                Loaf            2.20   \n",
       "1     Australia   2018       2      Bread                Loaf            2.20   \n",
       "2     Australia   2018       3      Bread                Loaf            2.20   \n",
       "3     Australia   2018       4      Bread                Loaf            2.21   \n",
       "4     Australia   2018       5      Bread                Loaf            2.21   \n",
       "...         ...    ...     ...        ...                 ...             ...   \n",
       "1195     Canada   2022       8   Potatoes                1 Kg            3.17   \n",
       "1196     Canada   2022       9   Potatoes                1 Kg            3.18   \n",
       "1197     Canada   2022      10   Potatoes                1 Kg            3.20   \n",
       "1198     Canada   2022      11   Potatoes                1 Kg            3.21   \n",
       "1199     Canada   2022      12   Potatoes                1 Kg            3.22   \n",
       "\n",
       "     Currency   Price in USD  Availability  Quality   \n",
       "0          AUD          1.47              1     High  \n",
       "1          AUD          1.48              1     High  \n",
       "2          AUD          1.48              1     High  \n",
       "3          AUD          1.48              1     High  \n",
       "4          AUD          1.48              1     High  \n",
       "...        ...           ...            ...      ...  \n",
       "1195       CAD          2.41              1     High  \n",
       "1196       CAD          2.42              1     High  \n",
       "1197       CAD          2.43              1     High  \n",
       "1198       CAD          2.44              1     High  \n",
       "1199       CAD          2.45              1     High  \n",
       "\n",
       "[1200 rows x 10 columns]"
      ]
     },
     "execution_count": 2,
     "metadata": {},
     "output_type": "execute_result"
    }
   ],
   "source": [
    "foodprice = pd.read_csv('Food Prices.csv')\n",
    "\n",
    "foodprice"
   ]
  },
  {
   "cell_type": "markdown",
   "id": "8494dceb",
   "metadata": {},
   "source": [
    "### A. 1. Geting to know the Data"
   ]
  },
  {
   "cell_type": "code",
   "execution_count": 3,
   "id": "f4f4f969",
   "metadata": {},
   "outputs": [
    {
     "data": {
      "text/plain": [
       "Index(['Country ', 'Year ', 'Month ', 'Food Item ', 'Unit of Measurement',\n",
       "       'Average Price ', 'Currency ', 'Price in USD', 'Availability ',\n",
       "       'Quality '],\n",
       "      dtype='object')"
      ]
     },
     "execution_count": 3,
     "metadata": {},
     "output_type": "execute_result"
    }
   ],
   "source": [
    "foodprice.columns"
   ]
  },
  {
   "cell_type": "code",
   "execution_count": 4,
   "id": "dbb284d0",
   "metadata": {},
   "outputs": [
    {
     "data": {
      "text/plain": [
       "(1200, 10)"
      ]
     },
     "execution_count": 4,
     "metadata": {},
     "output_type": "execute_result"
    }
   ],
   "source": [
    "foodprice.shape"
   ]
  },
  {
   "cell_type": "code",
   "execution_count": 5,
   "id": "f6bc1be6",
   "metadata": {},
   "outputs": [
    {
     "data": {
      "text/plain": [
       "Country                 object\n",
       "Year                     int64\n",
       "Month                    int64\n",
       "Food Item               object\n",
       "Unit of Measurement     object\n",
       "Average Price          float64\n",
       "Currency                object\n",
       "Price in USD           float64\n",
       "Availability             int64\n",
       "Quality                 object\n",
       "dtype: object"
      ]
     },
     "execution_count": 5,
     "metadata": {},
     "output_type": "execute_result"
    }
   ],
   "source": [
    "foodprice.dtypes"
   ]
  },
  {
   "cell_type": "code",
   "execution_count": 6,
   "id": "90414287",
   "metadata": {},
   "outputs": [
    {
     "data": {
      "text/html": [
       "<div>\n",
       "<style scoped>\n",
       "    .dataframe tbody tr th:only-of-type {\n",
       "        vertical-align: middle;\n",
       "    }\n",
       "\n",
       "    .dataframe tbody tr th {\n",
       "        vertical-align: top;\n",
       "    }\n",
       "\n",
       "    .dataframe thead th {\n",
       "        text-align: right;\n",
       "    }\n",
       "</style>\n",
       "<table border=\"1\" class=\"dataframe\">\n",
       "  <thead>\n",
       "    <tr style=\"text-align: right;\">\n",
       "      <th></th>\n",
       "      <th>Country</th>\n",
       "      <th>Year</th>\n",
       "      <th>Month</th>\n",
       "      <th>Food Item</th>\n",
       "      <th>Unit of Measurement</th>\n",
       "      <th>Average Price</th>\n",
       "      <th>Currency</th>\n",
       "      <th>Price in USD</th>\n",
       "      <th>Availability</th>\n",
       "      <th>Quality</th>\n",
       "    </tr>\n",
       "  </thead>\n",
       "  <tbody>\n",
       "    <tr>\n",
       "      <th>0</th>\n",
       "      <td>Australia</td>\n",
       "      <td>2018</td>\n",
       "      <td>1</td>\n",
       "      <td>Bread</td>\n",
       "      <td>Loaf</td>\n",
       "      <td>2.20</td>\n",
       "      <td>AUD</td>\n",
       "      <td>1.47</td>\n",
       "      <td>1</td>\n",
       "      <td>High</td>\n",
       "    </tr>\n",
       "    <tr>\n",
       "      <th>1</th>\n",
       "      <td>Australia</td>\n",
       "      <td>2018</td>\n",
       "      <td>2</td>\n",
       "      <td>Bread</td>\n",
       "      <td>Loaf</td>\n",
       "      <td>2.20</td>\n",
       "      <td>AUD</td>\n",
       "      <td>1.48</td>\n",
       "      <td>1</td>\n",
       "      <td>High</td>\n",
       "    </tr>\n",
       "    <tr>\n",
       "      <th>2</th>\n",
       "      <td>Australia</td>\n",
       "      <td>2018</td>\n",
       "      <td>3</td>\n",
       "      <td>Bread</td>\n",
       "      <td>Loaf</td>\n",
       "      <td>2.20</td>\n",
       "      <td>AUD</td>\n",
       "      <td>1.48</td>\n",
       "      <td>1</td>\n",
       "      <td>High</td>\n",
       "    </tr>\n",
       "    <tr>\n",
       "      <th>3</th>\n",
       "      <td>Australia</td>\n",
       "      <td>2018</td>\n",
       "      <td>4</td>\n",
       "      <td>Bread</td>\n",
       "      <td>Loaf</td>\n",
       "      <td>2.21</td>\n",
       "      <td>AUD</td>\n",
       "      <td>1.48</td>\n",
       "      <td>1</td>\n",
       "      <td>High</td>\n",
       "    </tr>\n",
       "    <tr>\n",
       "      <th>4</th>\n",
       "      <td>Australia</td>\n",
       "      <td>2018</td>\n",
       "      <td>5</td>\n",
       "      <td>Bread</td>\n",
       "      <td>Loaf</td>\n",
       "      <td>2.21</td>\n",
       "      <td>AUD</td>\n",
       "      <td>1.48</td>\n",
       "      <td>1</td>\n",
       "      <td>High</td>\n",
       "    </tr>\n",
       "  </tbody>\n",
       "</table>\n",
       "</div>"
      ],
      "text/plain": [
       "    Country   Year   Month  Food Item  Unit of Measurement  Average Price   \\\n",
       "0  Australia   2018       1      Bread                Loaf            2.20   \n",
       "1  Australia   2018       2      Bread                Loaf            2.20   \n",
       "2  Australia   2018       3      Bread                Loaf            2.20   \n",
       "3  Australia   2018       4      Bread                Loaf            2.21   \n",
       "4  Australia   2018       5      Bread                Loaf            2.21   \n",
       "\n",
       "  Currency   Price in USD  Availability  Quality   \n",
       "0       AUD          1.47              1     High  \n",
       "1       AUD          1.48              1     High  \n",
       "2       AUD          1.48              1     High  \n",
       "3       AUD          1.48              1     High  \n",
       "4       AUD          1.48              1     High  "
      ]
     },
     "execution_count": 6,
     "metadata": {},
     "output_type": "execute_result"
    }
   ],
   "source": [
    "foodprice.head()"
   ]
  },
  {
   "cell_type": "code",
   "execution_count": 7,
   "id": "3a368376",
   "metadata": {},
   "outputs": [
    {
     "data": {
      "text/plain": [
       "Country                0\n",
       "Year                   0\n",
       "Month                  0\n",
       "Food Item              0\n",
       "Unit of Measurement    0\n",
       "Average Price          0\n",
       "Currency               0\n",
       "Price in USD           0\n",
       "Availability           0\n",
       "Quality                0\n",
       "dtype: int64"
      ]
     },
     "execution_count": 7,
     "metadata": {},
     "output_type": "execute_result"
    }
   ],
   "source": [
    "# checking for missing value\n",
    "foodprice.isna().sum()"
   ]
  },
  {
   "cell_type": "code",
   "execution_count": 8,
   "id": "1d5c596e",
   "metadata": {},
   "outputs": [],
   "source": [
    "### no missing values found"
   ]
  },
  {
   "cell_type": "markdown",
   "id": "5ceb1ca0",
   "metadata": {},
   "source": [
    "###  2. Column 1 and 2"
   ]
  },
  {
   "cell_type": "code",
   "execution_count": 9,
   "id": "fe878365-c92c-442e-8895-fc27dc7c7590",
   "metadata": {},
   "outputs": [
    {
     "data": {
      "text/plain": [
       "0       Australia\n",
       "1       Australia\n",
       "2       Australia\n",
       "3       Australia\n",
       "4       Australia\n",
       "          ...    \n",
       "1195       Canada\n",
       "1196       Canada\n",
       "1197       Canada\n",
       "1198       Canada\n",
       "1199       Canada\n",
       "Name: Country , Length: 1200, dtype: object"
      ]
     },
     "execution_count": 9,
     "metadata": {},
     "output_type": "execute_result"
    }
   ],
   "source": [
    "foodprice['Country ']"
   ]
  },
  {
   "cell_type": "code",
   "execution_count": 10,
   "id": "c24b5c44",
   "metadata": {},
   "outputs": [
    {
     "data": {
      "text/plain": [
       "0"
      ]
     },
     "execution_count": 10,
     "metadata": {},
     "output_type": "execute_result"
    }
   ],
   "source": [
    "foodprice['Country '].isna().sum()"
   ]
  },
  {
   "cell_type": "code",
   "execution_count": 11,
   "id": "b21511e8",
   "metadata": {},
   "outputs": [
    {
     "data": {
      "text/plain": [
       "array(['Australia', 'Sweden', 'Japan', 'South Africa', 'Canada'],\n",
       "      dtype=object)"
      ]
     },
     "execution_count": 11,
     "metadata": {},
     "output_type": "execute_result"
    }
   ],
   "source": [
    "foodprice['Country '].unique()"
   ]
  },
  {
   "cell_type": "code",
   "execution_count": 12,
   "id": "5e6dd573",
   "metadata": {},
   "outputs": [
    {
     "name": "stdout",
     "output_type": "stream",
     "text": [
      "Minimum Value: Australia\n",
      "Maximum Value: Sweden\n"
     ]
    }
   ],
   "source": [
    "min_value = foodprice['Country '].min()\n",
    "max_value = foodprice['Country '].max()\n",
    "\n",
    "\n",
    "print(\"Minimum Value:\", min_value)\n",
    "print(\"Maximum Value:\", max_value)"
   ]
  },
  {
   "cell_type": "code",
   "execution_count": 13,
   "id": "d5f28a4c",
   "metadata": {},
   "outputs": [
    {
     "data": {
      "text/plain": [
       "Country \n",
       "Australia       240\n",
       "Sweden          240\n",
       "Japan           240\n",
       "South Africa    240\n",
       "Canada          240\n",
       "Name: count, dtype: int64"
      ]
     },
     "execution_count": 13,
     "metadata": {},
     "output_type": "execute_result"
    }
   ],
   "source": [
    "# Count occurrences of each item in the DataFrame column\n",
    "item_counts = foodprice['Country '].value_counts()\n",
    "item_counts"
   ]
  },
  {
   "cell_type": "code",
   "execution_count": 14,
   "id": "63c82255",
   "metadata": {},
   "outputs": [
    {
     "data": {
      "text/plain": [
       "0       2018\n",
       "1       2018\n",
       "2       2018\n",
       "3       2018\n",
       "4       2018\n",
       "        ... \n",
       "1195    2022\n",
       "1196    2022\n",
       "1197    2022\n",
       "1198    2022\n",
       "1199    2022\n",
       "Name: Year , Length: 1200, dtype: int64"
      ]
     },
     "execution_count": 14,
     "metadata": {},
     "output_type": "execute_result"
    }
   ],
   "source": [
    "foodprice['Year ']"
   ]
  },
  {
   "cell_type": "code",
   "execution_count": 15,
   "id": "e1d55162",
   "metadata": {},
   "outputs": [
    {
     "data": {
      "text/plain": [
       "0"
      ]
     },
     "execution_count": 15,
     "metadata": {},
     "output_type": "execute_result"
    }
   ],
   "source": [
    "foodprice['Year '].isna().sum()"
   ]
  },
  {
   "cell_type": "code",
   "execution_count": 16,
   "id": "1bca69d9",
   "metadata": {},
   "outputs": [
    {
     "data": {
      "text/plain": [
       "array([2018, 2019, 2020, 2021, 2022], dtype=int64)"
      ]
     },
     "execution_count": 16,
     "metadata": {},
     "output_type": "execute_result"
    }
   ],
   "source": [
    "foodprice['Year '].unique()"
   ]
  },
  {
   "cell_type": "code",
   "execution_count": 17,
   "id": "2c3d11cf",
   "metadata": {},
   "outputs": [
    {
     "name": "stdout",
     "output_type": "stream",
     "text": [
      "Minimum Value: 2018\n",
      "Maximum Value: 2022\n"
     ]
    }
   ],
   "source": [
    "min_value = foodprice['Year '].min()\n",
    "max_value = foodprice['Year '].max()\n",
    "\n",
    "\n",
    "print(\"Minimum Value:\", min_value)\n",
    "print(\"Maximum Value:\", max_value)"
   ]
  },
  {
   "cell_type": "code",
   "execution_count": 18,
   "id": "c4bfdbca",
   "metadata": {},
   "outputs": [
    {
     "data": {
      "text/plain": [
       "Year \n",
       "2018    240\n",
       "2019    240\n",
       "2020    240\n",
       "2021    240\n",
       "2022    240\n",
       "Name: count, dtype: int64"
      ]
     },
     "execution_count": 18,
     "metadata": {},
     "output_type": "execute_result"
    }
   ],
   "source": [
    "# Count occurrences of each item in the DataFrame column\n",
    "item_counts = foodprice['Year '].value_counts()\n",
    "item_counts"
   ]
  },
  {
   "cell_type": "code",
   "execution_count": 19,
   "id": "de828e04",
   "metadata": {},
   "outputs": [
    {
     "data": {
      "text/html": [
       "<div>\n",
       "<style scoped>\n",
       "    .dataframe tbody tr th:only-of-type {\n",
       "        vertical-align: middle;\n",
       "    }\n",
       "\n",
       "    .dataframe tbody tr th {\n",
       "        vertical-align: top;\n",
       "    }\n",
       "\n",
       "    .dataframe thead th {\n",
       "        text-align: right;\n",
       "    }\n",
       "</style>\n",
       "<table border=\"1\" class=\"dataframe\">\n",
       "  <thead>\n",
       "    <tr style=\"text-align: right;\">\n",
       "      <th></th>\n",
       "      <th>Country</th>\n",
       "      <th>Year</th>\n",
       "      <th>Month</th>\n",
       "      <th>Food Item</th>\n",
       "      <th>Unit of Measurement</th>\n",
       "      <th>Average Price</th>\n",
       "      <th>Currency</th>\n",
       "      <th>Price in USD</th>\n",
       "      <th>Availability</th>\n",
       "      <th>Quality</th>\n",
       "    </tr>\n",
       "  </thead>\n",
       "  <tbody>\n",
       "    <tr>\n",
       "      <th>0</th>\n",
       "      <td>Australia</td>\n",
       "      <td>2018</td>\n",
       "      <td>1</td>\n",
       "      <td>Bread</td>\n",
       "      <td>Loaf</td>\n",
       "      <td>2.20</td>\n",
       "      <td>AUD</td>\n",
       "      <td>1.47</td>\n",
       "      <td>1</td>\n",
       "      <td>High</td>\n",
       "    </tr>\n",
       "    <tr>\n",
       "      <th>1</th>\n",
       "      <td>Australia</td>\n",
       "      <td>2018</td>\n",
       "      <td>2</td>\n",
       "      <td>Bread</td>\n",
       "      <td>Loaf</td>\n",
       "      <td>2.20</td>\n",
       "      <td>AUD</td>\n",
       "      <td>1.48</td>\n",
       "      <td>1</td>\n",
       "      <td>High</td>\n",
       "    </tr>\n",
       "    <tr>\n",
       "      <th>2</th>\n",
       "      <td>Australia</td>\n",
       "      <td>2018</td>\n",
       "      <td>3</td>\n",
       "      <td>Bread</td>\n",
       "      <td>Loaf</td>\n",
       "      <td>2.20</td>\n",
       "      <td>AUD</td>\n",
       "      <td>1.48</td>\n",
       "      <td>1</td>\n",
       "      <td>High</td>\n",
       "    </tr>\n",
       "    <tr>\n",
       "      <th>3</th>\n",
       "      <td>Australia</td>\n",
       "      <td>2018</td>\n",
       "      <td>4</td>\n",
       "      <td>Bread</td>\n",
       "      <td>Loaf</td>\n",
       "      <td>2.21</td>\n",
       "      <td>AUD</td>\n",
       "      <td>1.48</td>\n",
       "      <td>1</td>\n",
       "      <td>High</td>\n",
       "    </tr>\n",
       "    <tr>\n",
       "      <th>4</th>\n",
       "      <td>Australia</td>\n",
       "      <td>2018</td>\n",
       "      <td>5</td>\n",
       "      <td>Bread</td>\n",
       "      <td>Loaf</td>\n",
       "      <td>2.21</td>\n",
       "      <td>AUD</td>\n",
       "      <td>1.48</td>\n",
       "      <td>1</td>\n",
       "      <td>High</td>\n",
       "    </tr>\n",
       "    <tr>\n",
       "      <th>...</th>\n",
       "      <td>...</td>\n",
       "      <td>...</td>\n",
       "      <td>...</td>\n",
       "      <td>...</td>\n",
       "      <td>...</td>\n",
       "      <td>...</td>\n",
       "      <td>...</td>\n",
       "      <td>...</td>\n",
       "      <td>...</td>\n",
       "      <td>...</td>\n",
       "    </tr>\n",
       "    <tr>\n",
       "      <th>1195</th>\n",
       "      <td>Canada</td>\n",
       "      <td>2022</td>\n",
       "      <td>8</td>\n",
       "      <td>Potatoes</td>\n",
       "      <td>1 Kg</td>\n",
       "      <td>3.17</td>\n",
       "      <td>CAD</td>\n",
       "      <td>2.41</td>\n",
       "      <td>1</td>\n",
       "      <td>High</td>\n",
       "    </tr>\n",
       "    <tr>\n",
       "      <th>1196</th>\n",
       "      <td>Canada</td>\n",
       "      <td>2022</td>\n",
       "      <td>9</td>\n",
       "      <td>Potatoes</td>\n",
       "      <td>1 Kg</td>\n",
       "      <td>3.18</td>\n",
       "      <td>CAD</td>\n",
       "      <td>2.42</td>\n",
       "      <td>1</td>\n",
       "      <td>High</td>\n",
       "    </tr>\n",
       "    <tr>\n",
       "      <th>1197</th>\n",
       "      <td>Canada</td>\n",
       "      <td>2022</td>\n",
       "      <td>10</td>\n",
       "      <td>Potatoes</td>\n",
       "      <td>1 Kg</td>\n",
       "      <td>3.20</td>\n",
       "      <td>CAD</td>\n",
       "      <td>2.43</td>\n",
       "      <td>1</td>\n",
       "      <td>High</td>\n",
       "    </tr>\n",
       "    <tr>\n",
       "      <th>1198</th>\n",
       "      <td>Canada</td>\n",
       "      <td>2022</td>\n",
       "      <td>11</td>\n",
       "      <td>Potatoes</td>\n",
       "      <td>1 Kg</td>\n",
       "      <td>3.21</td>\n",
       "      <td>CAD</td>\n",
       "      <td>2.44</td>\n",
       "      <td>1</td>\n",
       "      <td>High</td>\n",
       "    </tr>\n",
       "    <tr>\n",
       "      <th>1199</th>\n",
       "      <td>Canada</td>\n",
       "      <td>2022</td>\n",
       "      <td>12</td>\n",
       "      <td>Potatoes</td>\n",
       "      <td>1 Kg</td>\n",
       "      <td>3.22</td>\n",
       "      <td>CAD</td>\n",
       "      <td>2.45</td>\n",
       "      <td>1</td>\n",
       "      <td>High</td>\n",
       "    </tr>\n",
       "  </tbody>\n",
       "</table>\n",
       "<p>1200 rows × 10 columns</p>\n",
       "</div>"
      ],
      "text/plain": [
       "       Country   Year   Month  Food Item  Unit of Measurement  Average Price   \\\n",
       "0     Australia   2018       1      Bread                Loaf            2.20   \n",
       "1     Australia   2018       2      Bread                Loaf            2.20   \n",
       "2     Australia   2018       3      Bread                Loaf            2.20   \n",
       "3     Australia   2018       4      Bread                Loaf            2.21   \n",
       "4     Australia   2018       5      Bread                Loaf            2.21   \n",
       "...         ...    ...     ...        ...                 ...             ...   \n",
       "1195     Canada   2022       8   Potatoes                1 Kg            3.17   \n",
       "1196     Canada   2022       9   Potatoes                1 Kg            3.18   \n",
       "1197     Canada   2022      10   Potatoes                1 Kg            3.20   \n",
       "1198     Canada   2022      11   Potatoes                1 Kg            3.21   \n",
       "1199     Canada   2022      12   Potatoes                1 Kg            3.22   \n",
       "\n",
       "     Currency   Price in USD  Availability  Quality   \n",
       "0          AUD          1.47              1     High  \n",
       "1          AUD          1.48              1     High  \n",
       "2          AUD          1.48              1     High  \n",
       "3          AUD          1.48              1     High  \n",
       "4          AUD          1.48              1     High  \n",
       "...        ...           ...            ...      ...  \n",
       "1195       CAD          2.41              1     High  \n",
       "1196       CAD          2.42              1     High  \n",
       "1197       CAD          2.43              1     High  \n",
       "1198       CAD          2.44              1     High  \n",
       "1199       CAD          2.45              1     High  \n",
       "\n",
       "[1200 rows x 10 columns]"
      ]
     },
     "execution_count": 19,
     "metadata": {},
     "output_type": "execute_result"
    }
   ],
   "source": [
    "foodprice"
   ]
  },
  {
   "cell_type": "code",
   "execution_count": 20,
   "id": "1e810516",
   "metadata": {
    "scrolled": false
   },
   "outputs": [
    {
     "data": {
      "image/png": "[encoded data removed]",
      "text/plain": [
       "<Figure size 2000x600 with 1 Axes>"
      ]
     },
     "metadata": {},
     "output_type": "display_data"
    }
   ],
   "source": [
    "countries = foodprice[\"Country \"].value_counts()\n",
    "\n",
    "plt.figure(figsize=(20, 6))\n",
    "plt.bar(countries.index, countries.values, color=\"#bc5b87\", edgecolor='black')\n",
    "plt.xticks(countries.index)\n",
    "plt.title(\"Country Frequency\")\n",
    "plt.xlabel('Country ')\n",
    "plt.ylabel('Frequency ')\n",
    "\n",
    "plt.show()"
   ]
  },
  {
   "cell_type": "code",
   "execution_count": 21,
   "id": "6d52c70c",
   "metadata": {},
   "outputs": [
    {
     "data": {
      "image/png": "[encoded data removed]",
      "text/plain": [
       "<Figure size 2000x600 with 1 Axes>"
      ]
     },
     "metadata": {},
     "output_type": "display_data"
    }
   ],
   "source": [
    "years = foodprice['Year '].value_counts()\n",
    "\n",
    "plt.figure(figsize=(20, 6))\n",
    "plt.bar(years.index, years.values, color=\"#307f81\", edgecolor='black')\n",
    "plt.xticks(years.index)\n",
    "plt.title('Years Frequency')\n",
    "plt.xlabel('Year')\n",
    "plt.ylabel('Frequency')\n",
    "\n",
    "plt.show()"
   ]
  },
  {
   "cell_type": "code",
   "execution_count": 22,
   "id": "4ec8de2c",
   "metadata": {},
   "outputs": [
    {
     "data": {
      "image/png": "[encoded data removed]",
      "text/plain": [
       "<Figure size 2500x1000 with 2 Axes>"
      ]
     },
     "metadata": {},
     "output_type": "display_data"
    }
   ],
   "source": [
    "fig, axes = plt.subplots(1, 2, figsize=(25, 10))\n",
    "\n",
    "axes[0].hist(foodprice[\"Country \"], bins=5, color=\"#164B60\")\n",
    "axes[0].set_title(\"Country \")\n",
    "\n",
    "axes[1].hist(foodprice[\"Year \"], bins=5, color=\"#FF8989\")\n",
    "axes[1].set_title(\"Year \")\n",
    "\n",
    "plt.suptitle(\"Country and Year Distribution Values\")\n",
    "plt.show()"
   ]
  },
  {
   "cell_type": "markdown",
   "id": "cd830c79",
   "metadata": {},
   "source": [
    "Findings\n",
    "\n",
    "1. No missing value in the Country and Year Columns.\n",
    "2. All the Columns in the Country and Year are evenly represented with no difference in frequency.\n",
    "3. No abnormal or outlier values were detected within these 2 columns."
   ]
  },
  {
   "cell_type": "markdown",
   "id": "136c1da9",
   "metadata": {},
   "source": [
    "### 3. Column 3"
   ]
  },
  {
   "cell_type": "code",
   "execution_count": 23,
   "id": "d17ccd9b",
   "metadata": {},
   "outputs": [
    {
     "data": {
      "text/html": [
       "<div>\n",
       "<style scoped>\n",
       "    .dataframe tbody tr th:only-of-type {\n",
       "        vertical-align: middle;\n",
       "    }\n",
       "\n",
       "    .dataframe tbody tr th {\n",
       "        vertical-align: top;\n",
       "    }\n",
       "\n",
       "    .dataframe thead th {\n",
       "        text-align: right;\n",
       "    }\n",
       "</style>\n",
       "<table border=\"1\" class=\"dataframe\">\n",
       "  <thead>\n",
       "    <tr style=\"text-align: right;\">\n",
       "      <th></th>\n",
       "      <th>Country</th>\n",
       "      <th>Year</th>\n",
       "      <th>Month</th>\n",
       "      <th>Food Item</th>\n",
       "      <th>Unit of Measurement</th>\n",
       "      <th>Average Price</th>\n",
       "      <th>Currency</th>\n",
       "      <th>Price in USD</th>\n",
       "      <th>Availability</th>\n",
       "      <th>Quality</th>\n",
       "    </tr>\n",
       "  </thead>\n",
       "  <tbody>\n",
       "    <tr>\n",
       "      <th>0</th>\n",
       "      <td>Australia</td>\n",
       "      <td>2018</td>\n",
       "      <td>1</td>\n",
       "      <td>Bread</td>\n",
       "      <td>Loaf</td>\n",
       "      <td>2.20</td>\n",
       "      <td>AUD</td>\n",
       "      <td>1.47</td>\n",
       "      <td>1</td>\n",
       "      <td>High</td>\n",
       "    </tr>\n",
       "    <tr>\n",
       "      <th>1</th>\n",
       "      <td>Australia</td>\n",
       "      <td>2018</td>\n",
       "      <td>2</td>\n",
       "      <td>Bread</td>\n",
       "      <td>Loaf</td>\n",
       "      <td>2.20</td>\n",
       "      <td>AUD</td>\n",
       "      <td>1.48</td>\n",
       "      <td>1</td>\n",
       "      <td>High</td>\n",
       "    </tr>\n",
       "    <tr>\n",
       "      <th>2</th>\n",
       "      <td>Australia</td>\n",
       "      <td>2018</td>\n",
       "      <td>3</td>\n",
       "      <td>Bread</td>\n",
       "      <td>Loaf</td>\n",
       "      <td>2.20</td>\n",
       "      <td>AUD</td>\n",
       "      <td>1.48</td>\n",
       "      <td>1</td>\n",
       "      <td>High</td>\n",
       "    </tr>\n",
       "    <tr>\n",
       "      <th>3</th>\n",
       "      <td>Australia</td>\n",
       "      <td>2018</td>\n",
       "      <td>4</td>\n",
       "      <td>Bread</td>\n",
       "      <td>Loaf</td>\n",
       "      <td>2.21</td>\n",
       "      <td>AUD</td>\n",
       "      <td>1.48</td>\n",
       "      <td>1</td>\n",
       "      <td>High</td>\n",
       "    </tr>\n",
       "    <tr>\n",
       "      <th>4</th>\n",
       "      <td>Australia</td>\n",
       "      <td>2018</td>\n",
       "      <td>5</td>\n",
       "      <td>Bread</td>\n",
       "      <td>Loaf</td>\n",
       "      <td>2.21</td>\n",
       "      <td>AUD</td>\n",
       "      <td>1.48</td>\n",
       "      <td>1</td>\n",
       "      <td>High</td>\n",
       "    </tr>\n",
       "  </tbody>\n",
       "</table>\n",
       "</div>"
      ],
      "text/plain": [
       "    Country   Year   Month  Food Item  Unit of Measurement  Average Price   \\\n",
       "0  Australia   2018       1      Bread                Loaf            2.20   \n",
       "1  Australia   2018       2      Bread                Loaf            2.20   \n",
       "2  Australia   2018       3      Bread                Loaf            2.20   \n",
       "3  Australia   2018       4      Bread                Loaf            2.21   \n",
       "4  Australia   2018       5      Bread                Loaf            2.21   \n",
       "\n",
       "  Currency   Price in USD  Availability  Quality   \n",
       "0       AUD          1.47              1     High  \n",
       "1       AUD          1.48              1     High  \n",
       "2       AUD          1.48              1     High  \n",
       "3       AUD          1.48              1     High  \n",
       "4       AUD          1.48              1     High  "
      ]
     },
     "execution_count": 23,
     "metadata": {},
     "output_type": "execute_result"
    }
   ],
   "source": [
    "foodprice.head()"
   ]
  },
  {
   "cell_type": "code",
   "execution_count": 24,
   "id": "5bbd3993",
   "metadata": {},
   "outputs": [
    {
     "data": {
      "text/plain": [
       "0        1\n",
       "1        2\n",
       "2        3\n",
       "3        4\n",
       "4        5\n",
       "        ..\n",
       "1195     8\n",
       "1196     9\n",
       "1197    10\n",
       "1198    11\n",
       "1199    12\n",
       "Name: Month , Length: 1200, dtype: int64"
      ]
     },
     "execution_count": 24,
     "metadata": {},
     "output_type": "execute_result"
    }
   ],
   "source": [
    "foodprice['Month ']"
   ]
  },
  {
   "cell_type": "code",
   "execution_count": 25,
   "id": "c061fce7",
   "metadata": {},
   "outputs": [
    {
     "data": {
      "text/plain": [
       "0"
      ]
     },
     "execution_count": 25,
     "metadata": {},
     "output_type": "execute_result"
    }
   ],
   "source": [
    "foodprice['Month '].isna().sum()"
   ]
  },
  {
   "cell_type": "code",
   "execution_count": 26,
   "id": "b57d5e09",
   "metadata": {},
   "outputs": [
    {
     "data": {
      "text/plain": [
       "array([ 1,  2,  3,  4,  5,  6,  7,  8,  9, 10, 11, 12], dtype=int64)"
      ]
     },
     "execution_count": 26,
     "metadata": {},
     "output_type": "execute_result"
    }
   ],
   "source": [
    "foodprice['Month '].unique()"
   ]
  },
  {
   "cell_type": "code",
   "execution_count": 27,
   "id": "e3818b48",
   "metadata": {},
   "outputs": [
    {
     "name": "stdout",
     "output_type": "stream",
     "text": [
      "Minimum Value: 1\n",
      "Maximum Value: 12\n"
     ]
    }
   ],
   "source": [
    "min_value = foodprice['Month '].min()\n",
    "max_value = foodprice['Month '].max()\n",
    "\n",
    "\n",
    "print(\"Minimum Value:\", min_value)\n",
    "print(\"Maximum Value:\", max_value)"
   ]
  },
  {
   "cell_type": "code",
   "execution_count": 28,
   "id": "3e34db68",
   "metadata": {},
   "outputs": [
    {
     "data": {
      "text/plain": [
       "Month \n",
       "1     100\n",
       "2     100\n",
       "3     100\n",
       "4     100\n",
       "5     100\n",
       "6     100\n",
       "7     100\n",
       "8     100\n",
       "9     100\n",
       "10    100\n",
       "11    100\n",
       "12    100\n",
       "Name: count, dtype: int64"
      ]
     },
     "execution_count": 28,
     "metadata": {},
     "output_type": "execute_result"
    }
   ],
   "source": [
    "# Count occurrences of each item in the DataFrame column\n",
    "item_counts = foodprice['Month '].value_counts()\n",
    "item_counts"
   ]
  },
  {
   "cell_type": "code",
   "execution_count": 29,
   "id": "03d02505",
   "metadata": {},
   "outputs": [
    {
     "data": {
      "image/png": "[encoded data removed]",
      "text/plain": [
       "<Figure size 2000x600 with 1 Axes>"
      ]
     },
     "metadata": {},
     "output_type": "display_data"
    }
   ],
   "source": [
    "months = foodprice[\"Month \"].value_counts()\n",
    "\n",
    "plt.figure(figsize=(20, 6))\n",
    "plt.bar(months.index, months.values, color=\"#81508f\", edgecolor='black')\n",
    "plt.xticks(months.index)\n",
    "plt.title(\"Months Frequency\")\n",
    "plt.xlabel('Month ')\n",
    "plt.ylabel('Frequency ')\n",
    "\n",
    "plt.show()"
   ]
  },
  {
   "cell_type": "markdown",
   "id": "84500f76",
   "metadata": {},
   "source": [
    "Comments\n",
    "\n",
    "1. No missing value in the Month column.\n",
    "2. The Column in the Month are evenly represented the same as the values in frequency.\n",
    "3. No abnormal or outlier values were detected within these column."
   ]
  },
  {
   "cell_type": "markdown",
   "id": "84c413bf",
   "metadata": {},
   "source": [
    "### 4. Column 4"
   ]
  },
  {
   "cell_type": "code",
   "execution_count": 30,
   "id": "8deca4fd",
   "metadata": {},
   "outputs": [
    {
     "data": {
      "text/html": [
       "<div>\n",
       "<style scoped>\n",
       "    .dataframe tbody tr th:only-of-type {\n",
       "        vertical-align: middle;\n",
       "    }\n",
       "\n",
       "    .dataframe tbody tr th {\n",
       "        vertical-align: top;\n",
       "    }\n",
       "\n",
       "    .dataframe thead th {\n",
       "        text-align: right;\n",
       "    }\n",
       "</style>\n",
       "<table border=\"1\" class=\"dataframe\">\n",
       "  <thead>\n",
       "    <tr style=\"text-align: right;\">\n",
       "      <th></th>\n",
       "      <th>Country</th>\n",
       "      <th>Year</th>\n",
       "      <th>Month</th>\n",
       "      <th>Food Item</th>\n",
       "      <th>Unit of Measurement</th>\n",
       "      <th>Average Price</th>\n",
       "      <th>Currency</th>\n",
       "      <th>Price in USD</th>\n",
       "      <th>Availability</th>\n",
       "      <th>Quality</th>\n",
       "    </tr>\n",
       "  </thead>\n",
       "  <tbody>\n",
       "    <tr>\n",
       "      <th>0</th>\n",
       "      <td>Australia</td>\n",
       "      <td>2018</td>\n",
       "      <td>1</td>\n",
       "      <td>Bread</td>\n",
       "      <td>Loaf</td>\n",
       "      <td>2.20</td>\n",
       "      <td>AUD</td>\n",
       "      <td>1.47</td>\n",
       "      <td>1</td>\n",
       "      <td>High</td>\n",
       "    </tr>\n",
       "    <tr>\n",
       "      <th>1</th>\n",
       "      <td>Australia</td>\n",
       "      <td>2018</td>\n",
       "      <td>2</td>\n",
       "      <td>Bread</td>\n",
       "      <td>Loaf</td>\n",
       "      <td>2.20</td>\n",
       "      <td>AUD</td>\n",
       "      <td>1.48</td>\n",
       "      <td>1</td>\n",
       "      <td>High</td>\n",
       "    </tr>\n",
       "    <tr>\n",
       "      <th>2</th>\n",
       "      <td>Australia</td>\n",
       "      <td>2018</td>\n",
       "      <td>3</td>\n",
       "      <td>Bread</td>\n",
       "      <td>Loaf</td>\n",
       "      <td>2.20</td>\n",
       "      <td>AUD</td>\n",
       "      <td>1.48</td>\n",
       "      <td>1</td>\n",
       "      <td>High</td>\n",
       "    </tr>\n",
       "    <tr>\n",
       "      <th>3</th>\n",
       "      <td>Australia</td>\n",
       "      <td>2018</td>\n",
       "      <td>4</td>\n",
       "      <td>Bread</td>\n",
       "      <td>Loaf</td>\n",
       "      <td>2.21</td>\n",
       "      <td>AUD</td>\n",
       "      <td>1.48</td>\n",
       "      <td>1</td>\n",
       "      <td>High</td>\n",
       "    </tr>\n",
       "    <tr>\n",
       "      <th>4</th>\n",
       "      <td>Australia</td>\n",
       "      <td>2018</td>\n",
       "      <td>5</td>\n",
       "      <td>Bread</td>\n",
       "      <td>Loaf</td>\n",
       "      <td>2.21</td>\n",
       "      <td>AUD</td>\n",
       "      <td>1.48</td>\n",
       "      <td>1</td>\n",
       "      <td>High</td>\n",
       "    </tr>\n",
       "  </tbody>\n",
       "</table>\n",
       "</div>"
      ],
      "text/plain": [
       "    Country   Year   Month  Food Item  Unit of Measurement  Average Price   \\\n",
       "0  Australia   2018       1      Bread                Loaf            2.20   \n",
       "1  Australia   2018       2      Bread                Loaf            2.20   \n",
       "2  Australia   2018       3      Bread                Loaf            2.20   \n",
       "3  Australia   2018       4      Bread                Loaf            2.21   \n",
       "4  Australia   2018       5      Bread                Loaf            2.21   \n",
       "\n",
       "  Currency   Price in USD  Availability  Quality   \n",
       "0       AUD          1.47              1     High  \n",
       "1       AUD          1.48              1     High  \n",
       "2       AUD          1.48              1     High  \n",
       "3       AUD          1.48              1     High  \n",
       "4       AUD          1.48              1     High  "
      ]
     },
     "execution_count": 30,
     "metadata": {},
     "output_type": "execute_result"
    }
   ],
   "source": [
    "foodprice.head()"
   ]
  },
  {
   "cell_type": "code",
   "execution_count": 31,
   "id": "7a6e71b2",
   "metadata": {},
   "outputs": [
    {
     "data": {
      "text/plain": [
       "0          Bread\n",
       "1          Bread\n",
       "2          Bread\n",
       "3          Bread\n",
       "4          Bread\n",
       "          ...   \n",
       "1195    Potatoes\n",
       "1196    Potatoes\n",
       "1197    Potatoes\n",
       "1198    Potatoes\n",
       "1199    Potatoes\n",
       "Name: Food Item , Length: 1200, dtype: object"
      ]
     },
     "execution_count": 31,
     "metadata": {},
     "output_type": "execute_result"
    }
   ],
   "source": [
    "foodprice['Food Item ']"
   ]
  },
  {
   "cell_type": "code",
   "execution_count": 32,
   "id": "d7a29fc1",
   "metadata": {},
   "outputs": [
    {
     "data": {
      "text/plain": [
       "0"
      ]
     },
     "execution_count": 32,
     "metadata": {},
     "output_type": "execute_result"
    }
   ],
   "source": [
    "foodprice['Food Item '].isna().sum()"
   ]
  },
  {
   "cell_type": "code",
   "execution_count": 33,
   "id": "82b6b44a",
   "metadata": {},
   "outputs": [
    {
     "data": {
      "text/plain": [
       "array(['Bread', 'Milk', 'Eggs', 'Potatoes'], dtype=object)"
      ]
     },
     "execution_count": 33,
     "metadata": {},
     "output_type": "execute_result"
    }
   ],
   "source": [
    "foodprice['Food Item '].unique()"
   ]
  },
  {
   "cell_type": "code",
   "execution_count": 34,
   "id": "aaca723e",
   "metadata": {},
   "outputs": [
    {
     "name": "stdout",
     "output_type": "stream",
     "text": [
      "The minimum value is Bread\n",
      "The maximum value is Potatoes\n"
     ]
    }
   ],
   "source": [
    "min_value = foodprice['Food Item '].min()\n",
    "max_value = foodprice['Food Item '].max()\n",
    "\n",
    "print(\"The minimum value is\", min_value)\n",
    "print(\"The maximum value is\", max_value)"
   ]
  },
  {
   "cell_type": "code",
   "execution_count": 35,
   "id": "e7fda4e5",
   "metadata": {},
   "outputs": [
    {
     "data": {
      "text/plain": [
       "Food Item \n",
       "Bread       300\n",
       "Milk        300\n",
       "Eggs        300\n",
       "Potatoes    300\n",
       "Name: count, dtype: int64"
      ]
     },
     "execution_count": 35,
     "metadata": {},
     "output_type": "execute_result"
    }
   ],
   "source": [
    "# Count occurrences of each item in the DataFrame column\n",
    "item_counts = foodprice['Food Item '].value_counts()\n",
    "item_counts"
   ]
  },
  {
   "cell_type": "code",
   "execution_count": 36,
   "id": "d12e9ff7",
   "metadata": {},
   "outputs": [
    {
     "data": {
      "image/png": "[encoded data removed]",
      "text/plain": [
       "<Figure size 2000x600 with 1 Axes>"
      ]
     },
     "metadata": {},
     "output_type": "display_data"
    }
   ],
   "source": [
    "goods = foodprice['Food Item '].value_counts()\n",
    "\n",
    "plt.figure(figsize=(20, 6))\n",
    "plt.bar(goods.index, goods.values, color=\"#b9a155\", edgecolor='black')\n",
    "plt.xticks(goods.index)\n",
    "plt.title(\"Goods Frequency\")\n",
    "plt.xlabel(\"Goods\")\n",
    "plt.ylabel(\"Frequency\")\n",
    "\n",
    "plt.show()"
   ]
  },
  {
   "cell_type": "markdown",
   "id": "fe3e930d",
   "metadata": {},
   "source": [
    "Comments\n",
    "\n",
    "1. No missing value in the 'Food Item' column.\n",
    "2. The Column in the Food Item are evenly represented same as values in frequency.\n",
    "3. No abnormal or outlier values were detected within these column."
   ]
  },
  {
   "cell_type": "markdown",
   "id": "4eb9ea95",
   "metadata": {},
   "source": [
    "### 5. Column 5"
   ]
  },
  {
   "cell_type": "code",
   "execution_count": 37,
   "id": "bdb34855",
   "metadata": {},
   "outputs": [
    {
     "data": {
      "text/html": [
       "<div>\n",
       "<style scoped>\n",
       "    .dataframe tbody tr th:only-of-type {\n",
       "        vertical-align: middle;\n",
       "    }\n",
       "\n",
       "    .dataframe tbody tr th {\n",
       "        vertical-align: top;\n",
       "    }\n",
       "\n",
       "    .dataframe thead th {\n",
       "        text-align: right;\n",
       "    }\n",
       "</style>\n",
       "<table border=\"1\" class=\"dataframe\">\n",
       "  <thead>\n",
       "    <tr style=\"text-align: right;\">\n",
       "      <th></th>\n",
       "      <th>Country</th>\n",
       "      <th>Year</th>\n",
       "      <th>Month</th>\n",
       "      <th>Food Item</th>\n",
       "      <th>Unit of Measurement</th>\n",
       "      <th>Average Price</th>\n",
       "      <th>Currency</th>\n",
       "      <th>Price in USD</th>\n",
       "      <th>Availability</th>\n",
       "      <th>Quality</th>\n",
       "    </tr>\n",
       "  </thead>\n",
       "  <tbody>\n",
       "    <tr>\n",
       "      <th>0</th>\n",
       "      <td>Australia</td>\n",
       "      <td>2018</td>\n",
       "      <td>1</td>\n",
       "      <td>Bread</td>\n",
       "      <td>Loaf</td>\n",
       "      <td>2.20</td>\n",
       "      <td>AUD</td>\n",
       "      <td>1.47</td>\n",
       "      <td>1</td>\n",
       "      <td>High</td>\n",
       "    </tr>\n",
       "    <tr>\n",
       "      <th>1</th>\n",
       "      <td>Australia</td>\n",
       "      <td>2018</td>\n",
       "      <td>2</td>\n",
       "      <td>Bread</td>\n",
       "      <td>Loaf</td>\n",
       "      <td>2.20</td>\n",
       "      <td>AUD</td>\n",
       "      <td>1.48</td>\n",
       "      <td>1</td>\n",
       "      <td>High</td>\n",
       "    </tr>\n",
       "    <tr>\n",
       "      <th>2</th>\n",
       "      <td>Australia</td>\n",
       "      <td>2018</td>\n",
       "      <td>3</td>\n",
       "      <td>Bread</td>\n",
       "      <td>Loaf</td>\n",
       "      <td>2.20</td>\n",
       "      <td>AUD</td>\n",
       "      <td>1.48</td>\n",
       "      <td>1</td>\n",
       "      <td>High</td>\n",
       "    </tr>\n",
       "    <tr>\n",
       "      <th>3</th>\n",
       "      <td>Australia</td>\n",
       "      <td>2018</td>\n",
       "      <td>4</td>\n",
       "      <td>Bread</td>\n",
       "      <td>Loaf</td>\n",
       "      <td>2.21</td>\n",
       "      <td>AUD</td>\n",
       "      <td>1.48</td>\n",
       "      <td>1</td>\n",
       "      <td>High</td>\n",
       "    </tr>\n",
       "    <tr>\n",
       "      <th>4</th>\n",
       "      <td>Australia</td>\n",
       "      <td>2018</td>\n",
       "      <td>5</td>\n",
       "      <td>Bread</td>\n",
       "      <td>Loaf</td>\n",
       "      <td>2.21</td>\n",
       "      <td>AUD</td>\n",
       "      <td>1.48</td>\n",
       "      <td>1</td>\n",
       "      <td>High</td>\n",
       "    </tr>\n",
       "  </tbody>\n",
       "</table>\n",
       "</div>"
      ],
      "text/plain": [
       "    Country   Year   Month  Food Item  Unit of Measurement  Average Price   \\\n",
       "0  Australia   2018       1      Bread                Loaf            2.20   \n",
       "1  Australia   2018       2      Bread                Loaf            2.20   \n",
       "2  Australia   2018       3      Bread                Loaf            2.20   \n",
       "3  Australia   2018       4      Bread                Loaf            2.21   \n",
       "4  Australia   2018       5      Bread                Loaf            2.21   \n",
       "\n",
       "  Currency   Price in USD  Availability  Quality   \n",
       "0       AUD          1.47              1     High  \n",
       "1       AUD          1.48              1     High  \n",
       "2       AUD          1.48              1     High  \n",
       "3       AUD          1.48              1     High  \n",
       "4       AUD          1.48              1     High  "
      ]
     },
     "execution_count": 37,
     "metadata": {},
     "output_type": "execute_result"
    }
   ],
   "source": [
    "foodprice.head()"
   ]
  },
  {
   "cell_type": "code",
   "execution_count": 38,
   "id": "3d0f1aea",
   "metadata": {},
   "outputs": [
    {
     "data": {
      "text/plain": [
       "0       Loaf\n",
       "1       Loaf\n",
       "2       Loaf\n",
       "3       Loaf\n",
       "4       Loaf\n",
       "        ... \n",
       "1195    1 Kg\n",
       "1196    1 Kg\n",
       "1197    1 Kg\n",
       "1198    1 Kg\n",
       "1199    1 Kg\n",
       "Name: Unit of Measurement, Length: 1200, dtype: object"
      ]
     },
     "execution_count": 38,
     "metadata": {},
     "output_type": "execute_result"
    }
   ],
   "source": [
    "foodprice['Unit of Measurement']"
   ]
  },
  {
   "cell_type": "code",
   "execution_count": 39,
   "id": "ef4cb42e",
   "metadata": {},
   "outputs": [
    {
     "data": {
      "text/plain": [
       "0"
      ]
     },
     "execution_count": 39,
     "metadata": {},
     "output_type": "execute_result"
    }
   ],
   "source": [
    "foodprice['Unit of Measurement'].isna().sum()"
   ]
  },
  {
   "cell_type": "code",
   "execution_count": 40,
   "id": "9f0b325a",
   "metadata": {},
   "outputs": [
    {
     "data": {
      "text/plain": [
       "array(['Loaf', '1 L', 'Carton of 12', '1 Kg'], dtype=object)"
      ]
     },
     "execution_count": 40,
     "metadata": {},
     "output_type": "execute_result"
    }
   ],
   "source": [
    "foodprice['Unit of Measurement'].unique()"
   ]
  },
  {
   "cell_type": "code",
   "execution_count": 41,
   "id": "cdf2f739",
   "metadata": {},
   "outputs": [
    {
     "data": {
      "text/plain": [
       "Unit of Measurement\n",
       "1 Kg            360\n",
       "Loaf            300\n",
       "Carton of 12    300\n",
       "1 L             240\n",
       "Name: count, dtype: int64"
      ]
     },
     "execution_count": 41,
     "metadata": {},
     "output_type": "execute_result"
    }
   ],
   "source": [
    "foodprice['Unit of Measurement'].value_counts()"
   ]
  },
  {
   "cell_type": "code",
   "execution_count": 42,
   "id": "536c8894",
   "metadata": {},
   "outputs": [
    {
     "name": "stdout",
     "output_type": "stream",
     "text": [
      "The minimum value is 1 Kg\n",
      "The maximum value is Loaf\n"
     ]
    }
   ],
   "source": [
    "min_value = foodprice['Unit of Measurement'].min()\n",
    "max_value = foodprice['Unit of Measurement'].max()\n",
    "\n",
    "print(\"The minimum value is\", min_value)\n",
    "print(\"The maximum value is\", max_value)"
   ]
  },
  {
   "cell_type": "code",
   "execution_count": 43,
   "id": "962df840",
   "metadata": {},
   "outputs": [
    {
     "data": {
      "image/png": "[encoded data removed]",
      "text/plain": [
       "<Figure size 2000x600 with 1 Axes>"
      ]
     },
     "metadata": {},
     "output_type": "display_data"
    }
   ],
   "source": [
    "goods = foodprice['Unit of Measurement'].value_counts()\n",
    "\n",
    "plt.figure(figsize=(20, 6))\n",
    "plt.bar(goods.index, goods.values, color=\"#4a804f\", edgecolor='black')\n",
    "plt.xticks(goods.index)\n",
    "plt.title(\"Unit of Measurement Frequency\")\n",
    "plt.xlabel(\"Goods\")\n",
    "plt.ylabel(\"Frequency\")\n",
    "\n",
    "plt.show()"
   ]
  },
  {
   "cell_type": "markdown",
   "id": "08ad8c5a",
   "metadata": {},
   "source": [
    "Findings.\n",
    "\n",
    "1. No missing value in the Unit of measurement column.\n",
    "2. The Column in the unit of measurement are represented.\n",
    "3. The most represented unit of measurement is \"1 Kg\".\n",
    "4. The least represented unit of measurement is \"1 L\".\n",
    "5. No abnormal or outlier values were detected within these column.\n",
    "6. The four unit of Measurement were all represented evenly with the difference of 120 points between the least represented (\"1 Kg\") and the most represented (\"1 L\")."
   ]
  },
  {
   "cell_type": "markdown",
   "id": "a987cfb6",
   "metadata": {},
   "source": [
    "# 6. Column 6"
   ]
  },
  {
   "cell_type": "code",
   "execution_count": 44,
   "id": "4a68bc0b",
   "metadata": {},
   "outputs": [
    {
     "data": {
      "text/html": [
       "<div>\n",
       "<style scoped>\n",
       "    .dataframe tbody tr th:only-of-type {\n",
       "        vertical-align: middle;\n",
       "    }\n",
       "\n",
       "    .dataframe tbody tr th {\n",
       "        vertical-align: top;\n",
       "    }\n",
       "\n",
       "    .dataframe thead th {\n",
       "        text-align: right;\n",
       "    }\n",
       "</style>\n",
       "<table border=\"1\" class=\"dataframe\">\n",
       "  <thead>\n",
       "    <tr style=\"text-align: right;\">\n",
       "      <th></th>\n",
       "      <th>Country</th>\n",
       "      <th>Year</th>\n",
       "      <th>Month</th>\n",
       "      <th>Food Item</th>\n",
       "      <th>Unit of Measurement</th>\n",
       "      <th>Average Price</th>\n",
       "      <th>Currency</th>\n",
       "      <th>Price in USD</th>\n",
       "      <th>Availability</th>\n",
       "      <th>Quality</th>\n",
       "    </tr>\n",
       "  </thead>\n",
       "  <tbody>\n",
       "    <tr>\n",
       "      <th>0</th>\n",
       "      <td>Australia</td>\n",
       "      <td>2018</td>\n",
       "      <td>1</td>\n",
       "      <td>Bread</td>\n",
       "      <td>Loaf</td>\n",
       "      <td>2.20</td>\n",
       "      <td>AUD</td>\n",
       "      <td>1.47</td>\n",
       "      <td>1</td>\n",
       "      <td>High</td>\n",
       "    </tr>\n",
       "    <tr>\n",
       "      <th>1</th>\n",
       "      <td>Australia</td>\n",
       "      <td>2018</td>\n",
       "      <td>2</td>\n",
       "      <td>Bread</td>\n",
       "      <td>Loaf</td>\n",
       "      <td>2.20</td>\n",
       "      <td>AUD</td>\n",
       "      <td>1.48</td>\n",
       "      <td>1</td>\n",
       "      <td>High</td>\n",
       "    </tr>\n",
       "    <tr>\n",
       "      <th>2</th>\n",
       "      <td>Australia</td>\n",
       "      <td>2018</td>\n",
       "      <td>3</td>\n",
       "      <td>Bread</td>\n",
       "      <td>Loaf</td>\n",
       "      <td>2.20</td>\n",
       "      <td>AUD</td>\n",
       "      <td>1.48</td>\n",
       "      <td>1</td>\n",
       "      <td>High</td>\n",
       "    </tr>\n",
       "    <tr>\n",
       "      <th>3</th>\n",
       "      <td>Australia</td>\n",
       "      <td>2018</td>\n",
       "      <td>4</td>\n",
       "      <td>Bread</td>\n",
       "      <td>Loaf</td>\n",
       "      <td>2.21</td>\n",
       "      <td>AUD</td>\n",
       "      <td>1.48</td>\n",
       "      <td>1</td>\n",
       "      <td>High</td>\n",
       "    </tr>\n",
       "    <tr>\n",
       "      <th>4</th>\n",
       "      <td>Australia</td>\n",
       "      <td>2018</td>\n",
       "      <td>5</td>\n",
       "      <td>Bread</td>\n",
       "      <td>Loaf</td>\n",
       "      <td>2.21</td>\n",
       "      <td>AUD</td>\n",
       "      <td>1.48</td>\n",
       "      <td>1</td>\n",
       "      <td>High</td>\n",
       "    </tr>\n",
       "  </tbody>\n",
       "</table>\n",
       "</div>"
      ],
      "text/plain": [
       "    Country   Year   Month  Food Item  Unit of Measurement  Average Price   \\\n",
       "0  Australia   2018       1      Bread                Loaf            2.20   \n",
       "1  Australia   2018       2      Bread                Loaf            2.20   \n",
       "2  Australia   2018       3      Bread                Loaf            2.20   \n",
       "3  Australia   2018       4      Bread                Loaf            2.21   \n",
       "4  Australia   2018       5      Bread                Loaf            2.21   \n",
       "\n",
       "  Currency   Price in USD  Availability  Quality   \n",
       "0       AUD          1.47              1     High  \n",
       "1       AUD          1.48              1     High  \n",
       "2       AUD          1.48              1     High  \n",
       "3       AUD          1.48              1     High  \n",
       "4       AUD          1.48              1     High  "
      ]
     },
     "execution_count": 44,
     "metadata": {},
     "output_type": "execute_result"
    }
   ],
   "source": [
    "foodprice.head()"
   ]
  },
  {
   "cell_type": "code",
   "execution_count": 45,
   "id": "c86c2867",
   "metadata": {},
   "outputs": [
    {
     "data": {
      "text/plain": [
       "0       2.20\n",
       "1       2.20\n",
       "2       2.20\n",
       "3       2.21\n",
       "4       2.21\n",
       "        ... \n",
       "1195    3.17\n",
       "1196    3.18\n",
       "1197    3.20\n",
       "1198    3.21\n",
       "1199    3.22\n",
       "Name: Average Price , Length: 1200, dtype: float64"
      ]
     },
     "execution_count": 45,
     "metadata": {},
     "output_type": "execute_result"
    }
   ],
   "source": [
    "foodprice['Average Price ']"
   ]
  },
  {
   "cell_type": "code",
   "execution_count": 46,
   "id": "507826df",
   "metadata": {},
   "outputs": [
    {
     "data": {
      "text/plain": [
       "0"
      ]
     },
     "execution_count": 46,
     "metadata": {},
     "output_type": "execute_result"
    }
   ],
   "source": [
    "foodprice['Average Price '].isna().sum()"
   ]
  },
  {
   "cell_type": "code",
   "execution_count": 47,
   "id": "bdc9156d",
   "metadata": {},
   "outputs": [
    {
     "data": {
      "text/plain": [
       "Average Price \n",
       "3.26      12\n",
       "3.75      10\n",
       "2.97       7\n",
       "3.04       7\n",
       "2.98       7\n",
       "          ..\n",
       "187.35     1\n",
       "187.83     1\n",
       "1.56       1\n",
       "188.79     1\n",
       "186.40     1\n",
       "Name: count, Length: 927, dtype: int64"
      ]
     },
     "execution_count": 47,
     "metadata": {},
     "output_type": "execute_result"
    }
   ],
   "source": [
    "foodprice['Average Price '].value_counts()"
   ]
  },
  {
   "cell_type": "code",
   "execution_count": 48,
   "id": "ae92585e",
   "metadata": {},
   "outputs": [
    {
     "name": "stdout",
     "output_type": "stream",
     "text": [
      "the minimum value is 1.22\n",
      "the maximum value is 421.43\n"
     ]
    }
   ],
   "source": [
    "min_value = foodprice['Average Price '].min()\n",
    "max_value = foodprice['Average Price '].max()\n",
    "\n",
    "print(\"the minimum value is\", min_value)\n",
    "print(\"the maximum value is\", max_value)"
   ]
  },
  {
   "cell_type": "code",
   "execution_count": 49,
   "id": "bc2443d0",
   "metadata": {},
   "outputs": [
    {
     "data": {
      "image/png": "[encoded data removed]",
      "text/plain": [
       "<Figure size 1300x400 with 1 Axes>"
      ]
     },
     "metadata": {},
     "output_type": "display_data"
    }
   ],
   "source": [
    "av = foodprice['Average Price ']\n",
    "\n",
    "plt.figure(figsize=(13, 4))\n",
    "\n",
    "plt.plot(av, color='#009068')\n",
    "plt.grid(True)\n",
    "plt.tight_layout()\n",
    "plt.title('Average Price Frequency')\n",
    "plt.xlabel('Frequency')\n",
    "plt.ylabel('Average Price')\n",
    "\n",
    "plt.show()"
   ]
  },
  {
   "cell_type": "code",
   "execution_count": 50,
   "id": "b4c1366e",
   "metadata": {
    "scrolled": true
   },
   "outputs": [
    {
     "data": {
      "image/png": "[encoded data removed]",
      "text/plain": [
       "<Figure size 1300x400 with 1 Axes>"
      ]
     },
     "metadata": {},
     "output_type": "display_data"
    }
   ],
   "source": [
    "average_prices = foodprice['Average Price ']\n",
    "\n",
    "x_axis = list(range(len(average_prices)))\n",
    "\n",
    "plt.figure(figsize=(13, 4))\n",
    "\n",
    "plt.plot(x_axis, average_prices, label='Average Price ', color='#9b456e', marker='*')\n",
    "\n",
    "plt.xlabel('Frequency')\n",
    "plt.ylabel('Average Price')\n",
    "plt.title('Average Price of Food Items Distribution')\n",
    "plt.tight_layout()\n",
    "\n",
    "plt.grid(True)\n",
    "\n",
    "plt.legend()\n",
    "\n",
    "plt.show()"
   ]
  },
  {
   "cell_type": "markdown",
   "id": "47a77257",
   "metadata": {},
   "source": [
    "Comments\n",
    "\n",
    "1. No missing value in 'Average Price' Item column.\n",
    "2. The least Represented Average Price is \"1.22\".\n",
    "3. The most represented Average Price is \"421.43\".\n",
    "4. No abnormal or outlier values were detected within these column.\n",
    "5. The Column in the \"Average Price\" are evenly same as values in the \"Frequency\".\n",
    "\n",
    "Insight\n",
    "\n",
    "1. The data indicates that the average prices remained relatively stable in the first and middle parts (between the Frequency in  400 and 600), followed by fluctuating and gradually increasing to a peak of 421.43, and then declining in the middle part (between the Frequency in 600 and 800) before maintaining a relatively lower position until reaching the Frequency 1200.\n",
    "2. The significant upward surge in the figure's line appears to have been driven by the inclusion of the Japanese yen currency in the dataframe, while the subsequent drop suggests a return to a stronger currency represented by Canada, Sweden, and Australia.\n",
    "3. The data suggests that the fluctuating line in the figure is influenced by the strength of the dollar, indicating that the food item's price increases when the currency is weak and remains relatively low when the currency is strong.\n",
    "\n"
   ]
  },
  {
   "cell_type": "markdown",
   "id": "6f8081fe",
   "metadata": {},
   "source": [
    "# 7. Column 7"
   ]
  },
  {
   "cell_type": "code",
   "execution_count": 51,
   "id": "5b2e5ffb",
   "metadata": {},
   "outputs": [
    {
     "data": {
      "text/html": [
       "<div>\n",
       "<style scoped>\n",
       "    .dataframe tbody tr th:only-of-type {\n",
       "        vertical-align: middle;\n",
       "    }\n",
       "\n",
       "    .dataframe tbody tr th {\n",
       "        vertical-align: top;\n",
       "    }\n",
       "\n",
       "    .dataframe thead th {\n",
       "        text-align: right;\n",
       "    }\n",
       "</style>\n",
       "<table border=\"1\" class=\"dataframe\">\n",
       "  <thead>\n",
       "    <tr style=\"text-align: right;\">\n",
       "      <th></th>\n",
       "      <th>Country</th>\n",
       "      <th>Year</th>\n",
       "      <th>Month</th>\n",
       "      <th>Food Item</th>\n",
       "      <th>Unit of Measurement</th>\n",
       "      <th>Average Price</th>\n",
       "      <th>Currency</th>\n",
       "      <th>Price in USD</th>\n",
       "      <th>Availability</th>\n",
       "      <th>Quality</th>\n",
       "    </tr>\n",
       "  </thead>\n",
       "  <tbody>\n",
       "    <tr>\n",
       "      <th>0</th>\n",
       "      <td>Australia</td>\n",
       "      <td>2018</td>\n",
       "      <td>1</td>\n",
       "      <td>Bread</td>\n",
       "      <td>Loaf</td>\n",
       "      <td>2.20</td>\n",
       "      <td>AUD</td>\n",
       "      <td>1.47</td>\n",
       "      <td>1</td>\n",
       "      <td>High</td>\n",
       "    </tr>\n",
       "    <tr>\n",
       "      <th>1</th>\n",
       "      <td>Australia</td>\n",
       "      <td>2018</td>\n",
       "      <td>2</td>\n",
       "      <td>Bread</td>\n",
       "      <td>Loaf</td>\n",
       "      <td>2.20</td>\n",
       "      <td>AUD</td>\n",
       "      <td>1.48</td>\n",
       "      <td>1</td>\n",
       "      <td>High</td>\n",
       "    </tr>\n",
       "    <tr>\n",
       "      <th>2</th>\n",
       "      <td>Australia</td>\n",
       "      <td>2018</td>\n",
       "      <td>3</td>\n",
       "      <td>Bread</td>\n",
       "      <td>Loaf</td>\n",
       "      <td>2.20</td>\n",
       "      <td>AUD</td>\n",
       "      <td>1.48</td>\n",
       "      <td>1</td>\n",
       "      <td>High</td>\n",
       "    </tr>\n",
       "    <tr>\n",
       "      <th>3</th>\n",
       "      <td>Australia</td>\n",
       "      <td>2018</td>\n",
       "      <td>4</td>\n",
       "      <td>Bread</td>\n",
       "      <td>Loaf</td>\n",
       "      <td>2.21</td>\n",
       "      <td>AUD</td>\n",
       "      <td>1.48</td>\n",
       "      <td>1</td>\n",
       "      <td>High</td>\n",
       "    </tr>\n",
       "    <tr>\n",
       "      <th>4</th>\n",
       "      <td>Australia</td>\n",
       "      <td>2018</td>\n",
       "      <td>5</td>\n",
       "      <td>Bread</td>\n",
       "      <td>Loaf</td>\n",
       "      <td>2.21</td>\n",
       "      <td>AUD</td>\n",
       "      <td>1.48</td>\n",
       "      <td>1</td>\n",
       "      <td>High</td>\n",
       "    </tr>\n",
       "  </tbody>\n",
       "</table>\n",
       "</div>"
      ],
      "text/plain": [
       "    Country   Year   Month  Food Item  Unit of Measurement  Average Price   \\\n",
       "0  Australia   2018       1      Bread                Loaf            2.20   \n",
       "1  Australia   2018       2      Bread                Loaf            2.20   \n",
       "2  Australia   2018       3      Bread                Loaf            2.20   \n",
       "3  Australia   2018       4      Bread                Loaf            2.21   \n",
       "4  Australia   2018       5      Bread                Loaf            2.21   \n",
       "\n",
       "  Currency   Price in USD  Availability  Quality   \n",
       "0       AUD          1.47              1     High  \n",
       "1       AUD          1.48              1     High  \n",
       "2       AUD          1.48              1     High  \n",
       "3       AUD          1.48              1     High  \n",
       "4       AUD          1.48              1     High  "
      ]
     },
     "execution_count": 51,
     "metadata": {},
     "output_type": "execute_result"
    }
   ],
   "source": [
    "foodprice.head()"
   ]
  },
  {
   "cell_type": "code",
   "execution_count": 52,
   "id": "cf30c78f",
   "metadata": {},
   "outputs": [
    {
     "data": {
      "text/plain": [
       "0       AUD\n",
       "1       AUD\n",
       "2       AUD\n",
       "3       AUD\n",
       "4       AUD\n",
       "       ... \n",
       "1195    CAD\n",
       "1196    CAD\n",
       "1197    CAD\n",
       "1198    CAD\n",
       "1199    CAD\n",
       "Name: Currency , Length: 1200, dtype: object"
      ]
     },
     "execution_count": 52,
     "metadata": {},
     "output_type": "execute_result"
    }
   ],
   "source": [
    "foodprice['Currency ']"
   ]
  },
  {
   "cell_type": "code",
   "execution_count": 53,
   "id": "65679d3c",
   "metadata": {},
   "outputs": [
    {
     "data": {
      "text/plain": [
       "0"
      ]
     },
     "execution_count": 53,
     "metadata": {},
     "output_type": "execute_result"
    }
   ],
   "source": [
    "foodprice['Currency '].isna().sum()"
   ]
  },
  {
   "cell_type": "code",
   "execution_count": 54,
   "id": "8e489dfb",
   "metadata": {},
   "outputs": [
    {
     "data": {
      "text/plain": [
       "array(['AUD', 'Kr', 'JPY ', 'ZAR', 'CAD'], dtype=object)"
      ]
     },
     "execution_count": 54,
     "metadata": {},
     "output_type": "execute_result"
    }
   ],
   "source": [
    "foodprice['Currency '].unique()"
   ]
  },
  {
   "cell_type": "code",
   "execution_count": 55,
   "id": "447844d9",
   "metadata": {},
   "outputs": [
    {
     "name": "stdout",
     "output_type": "stream",
     "text": [
      "The mimimum value is AUD\n",
      "the maximum value is ZAR\n"
     ]
    }
   ],
   "source": [
    "min_value = foodprice['Currency '].min()\n",
    "max_value = foodprice['Currency '].max()\n",
    "\n",
    "print(\"The mimimum value is\", min_value)\n",
    "print(\"the maximum value is\", max_value)"
   ]
  },
  {
   "cell_type": "code",
   "execution_count": 56,
   "id": "0bb4e5c4",
   "metadata": {},
   "outputs": [
    {
     "data": {
      "image/png": "[encoded data removed]",
      "text/plain": [
       "<Figure size 1300x400 with 1 Axes>"
      ]
     },
     "metadata": {},
     "output_type": "display_data"
    }
   ],
   "source": [
    "currency = foodprice['Currency '].value_counts()\n",
    "\n",
    "plt.figure(figsize=(13, 4))\n",
    "plt.bar(currency.index, currency.values, color='#bbee55', edgecolor='black')\n",
    "plt.xticks(currency.index)\n",
    "plt.title('Currency Frequency')\n",
    "plt.xlabel('Currency')\n",
    "plt.ylabel('Frequency')\n",
    "plt.tight_layout()\n",
    "\n",
    "plt.show()"
   ]
  },
  {
   "cell_type": "markdown",
   "id": "69a9bf62",
   "metadata": {},
   "source": [
    "Comments\n",
    "\n",
    "1. No missing value in the 'Currency' column.\n",
    "2. The Column in the 'Currency' are evenly represented same as values in frequency.\n",
    "3. No abnormal or outlier values were detected within these column."
   ]
  },
  {
   "cell_type": "markdown",
   "id": "61511532",
   "metadata": {},
   "source": [
    "# 8. Column 8"
   ]
  },
  {
   "cell_type": "code",
   "execution_count": 57,
   "id": "035965d1",
   "metadata": {},
   "outputs": [
    {
     "data": {
      "text/html": [
       "<div>\n",
       "<style scoped>\n",
       "    .dataframe tbody tr th:only-of-type {\n",
       "        vertical-align: middle;\n",
       "    }\n",
       "\n",
       "    .dataframe tbody tr th {\n",
       "        vertical-align: top;\n",
       "    }\n",
       "\n",
       "    .dataframe thead th {\n",
       "        text-align: right;\n",
       "    }\n",
       "</style>\n",
       "<table border=\"1\" class=\"dataframe\">\n",
       "  <thead>\n",
       "    <tr style=\"text-align: right;\">\n",
       "      <th></th>\n",
       "      <th>Country</th>\n",
       "      <th>Year</th>\n",
       "      <th>Month</th>\n",
       "      <th>Food Item</th>\n",
       "      <th>Unit of Measurement</th>\n",
       "      <th>Average Price</th>\n",
       "      <th>Currency</th>\n",
       "      <th>Price in USD</th>\n",
       "      <th>Availability</th>\n",
       "      <th>Quality</th>\n",
       "    </tr>\n",
       "  </thead>\n",
       "  <tbody>\n",
       "    <tr>\n",
       "      <th>0</th>\n",
       "      <td>Australia</td>\n",
       "      <td>2018</td>\n",
       "      <td>1</td>\n",
       "      <td>Bread</td>\n",
       "      <td>Loaf</td>\n",
       "      <td>2.20</td>\n",
       "      <td>AUD</td>\n",
       "      <td>1.47</td>\n",
       "      <td>1</td>\n",
       "      <td>High</td>\n",
       "    </tr>\n",
       "    <tr>\n",
       "      <th>1</th>\n",
       "      <td>Australia</td>\n",
       "      <td>2018</td>\n",
       "      <td>2</td>\n",
       "      <td>Bread</td>\n",
       "      <td>Loaf</td>\n",
       "      <td>2.20</td>\n",
       "      <td>AUD</td>\n",
       "      <td>1.48</td>\n",
       "      <td>1</td>\n",
       "      <td>High</td>\n",
       "    </tr>\n",
       "    <tr>\n",
       "      <th>2</th>\n",
       "      <td>Australia</td>\n",
       "      <td>2018</td>\n",
       "      <td>3</td>\n",
       "      <td>Bread</td>\n",
       "      <td>Loaf</td>\n",
       "      <td>2.20</td>\n",
       "      <td>AUD</td>\n",
       "      <td>1.48</td>\n",
       "      <td>1</td>\n",
       "      <td>High</td>\n",
       "    </tr>\n",
       "    <tr>\n",
       "      <th>3</th>\n",
       "      <td>Australia</td>\n",
       "      <td>2018</td>\n",
       "      <td>4</td>\n",
       "      <td>Bread</td>\n",
       "      <td>Loaf</td>\n",
       "      <td>2.21</td>\n",
       "      <td>AUD</td>\n",
       "      <td>1.48</td>\n",
       "      <td>1</td>\n",
       "      <td>High</td>\n",
       "    </tr>\n",
       "    <tr>\n",
       "      <th>4</th>\n",
       "      <td>Australia</td>\n",
       "      <td>2018</td>\n",
       "      <td>5</td>\n",
       "      <td>Bread</td>\n",
       "      <td>Loaf</td>\n",
       "      <td>2.21</td>\n",
       "      <td>AUD</td>\n",
       "      <td>1.48</td>\n",
       "      <td>1</td>\n",
       "      <td>High</td>\n",
       "    </tr>\n",
       "  </tbody>\n",
       "</table>\n",
       "</div>"
      ],
      "text/plain": [
       "    Country   Year   Month  Food Item  Unit of Measurement  Average Price   \\\n",
       "0  Australia   2018       1      Bread                Loaf            2.20   \n",
       "1  Australia   2018       2      Bread                Loaf            2.20   \n",
       "2  Australia   2018       3      Bread                Loaf            2.20   \n",
       "3  Australia   2018       4      Bread                Loaf            2.21   \n",
       "4  Australia   2018       5      Bread                Loaf            2.21   \n",
       "\n",
       "  Currency   Price in USD  Availability  Quality   \n",
       "0       AUD          1.47              1     High  \n",
       "1       AUD          1.48              1     High  \n",
       "2       AUD          1.48              1     High  \n",
       "3       AUD          1.48              1     High  \n",
       "4       AUD          1.48              1     High  "
      ]
     },
     "execution_count": 57,
     "metadata": {},
     "output_type": "execute_result"
    }
   ],
   "source": [
    "foodprice.head()"
   ]
  },
  {
   "cell_type": "code",
   "execution_count": 58,
   "id": "2dcc7036",
   "metadata": {},
   "outputs": [
    {
     "data": {
      "text/plain": [
       "0       1.47\n",
       "1       1.48\n",
       "2       1.48\n",
       "3       1.48\n",
       "4       1.48\n",
       "        ... \n",
       "1195    2.41\n",
       "1196    2.42\n",
       "1197    2.43\n",
       "1198    2.44\n",
       "1199    2.45\n",
       "Name: Price in USD, Length: 1200, dtype: float64"
      ]
     },
     "execution_count": 58,
     "metadata": {},
     "output_type": "execute_result"
    }
   ],
   "source": [
    "foodprice['Price in USD']"
   ]
  },
  {
   "cell_type": "code",
   "execution_count": 59,
   "id": "54ebf466",
   "metadata": {},
   "outputs": [
    {
     "data": {
      "text/plain": [
       "0"
      ]
     },
     "execution_count": 59,
     "metadata": {},
     "output_type": "execute_result"
    }
   ],
   "source": [
    "foodprice['Price in USD'].isna().sum()"
   ]
  },
  {
   "cell_type": "code",
   "execution_count": 60,
   "id": "d7d49076",
   "metadata": {},
   "outputs": [
    {
     "data": {
      "text/plain": [
       "array([1.47, 1.48, 1.49, 1.5 , 1.51, 1.52, 1.53, 1.54, 1.55, 1.56, 1.57,\n",
       "       1.58, 1.59, 1.6 , 1.61, 1.63, 1.64, 1.66, 1.68, 1.69, 1.71, 1.73,\n",
       "       1.74, 1.76, 1.78, 1.8 , 1.81, 1.83, 1.84, 1.85, 1.87, 1.88, 1.89,\n",
       "       1.91, 1.92, 1.93, 1.95, 1.96, 0.82, 0.83, 0.84, 0.85, 0.86, 0.87,\n",
       "       0.88, 0.89, 0.9 , 0.91, 0.92, 0.93, 0.94, 0.95, 0.96, 0.97, 0.98,\n",
       "       0.99, 1.  , 1.02, 1.03, 1.04, 1.06, 1.07, 1.09, 1.1 , 1.11, 1.13,\n",
       "       1.14, 1.15, 1.17, 1.18, 1.19, 2.08, 2.09, 2.1 , 2.11, 2.12, 2.13,\n",
       "       2.14, 2.15, 2.16, 2.17, 2.18, 2.19, 2.2 , 2.21, 2.22, 2.23, 2.24,\n",
       "       2.25, 2.26, 2.27, 2.28, 2.29, 2.3 , 2.31, 2.32, 2.33, 2.34, 2.35,\n",
       "       2.36, 2.37, 2.38, 2.39, 2.4 , 2.48, 2.56, 2.64, 2.72, 2.8 , 2.88,\n",
       "       2.96, 3.04, 3.12, 3.2 , 3.28, 3.36, 3.42, 3.48, 3.54, 3.6 , 3.66,\n",
       "       3.72, 3.79, 3.85, 3.91, 3.97, 4.03, 2.41, 2.42, 2.43, 2.45, 2.46,\n",
       "       2.47, 2.49, 2.5 , 2.51, 2.52, 2.54, 2.57, 2.59, 2.61, 2.63, 2.66,\n",
       "       2.68, 2.7 , 2.73, 2.75, 2.77, 1.82, 1.86, 1.9 , 1.94, 1.97, 1.99,\n",
       "       2.  , 2.01, 2.03, 2.04, 2.06, 2.07, 2.44, 2.53, 1.01, 1.05, 1.08,\n",
       "       1.12, 1.16, 1.2 , 1.21, 1.22, 1.23, 1.24, 1.25, 1.26, 1.27, 1.28,\n",
       "       1.29, 1.3 , 1.31, 1.32, 1.33, 1.34, 1.35, 1.36, 1.37, 1.38, 1.39,\n",
       "       2.58, 2.6 , 2.65, 2.78, 2.82, 2.85, 2.87, 2.89, 2.9 , 2.91, 2.92,\n",
       "       2.93, 2.94, 2.95, 2.98, 3.  , 3.02, 3.06, 3.08, 3.1 , 3.14, 3.16,\n",
       "       3.18, 3.22, 3.25, 3.3 , 3.33, 3.38, 3.41, 3.44, 3.46, 3.49, 1.4 ,\n",
       "       1.41, 1.42, 1.43, 1.44, 1.45, 1.46, 1.62, 1.65, 1.67, 1.7 , 1.72,\n",
       "       1.75, 1.77, 1.79, 2.62, 2.67, 2.69, 2.71, 2.74, 2.76, 2.79, 2.81,\n",
       "       2.83, 2.84, 2.86, 2.97, 3.01, 3.03, 0.69, 0.7 , 0.71, 0.72, 0.73,\n",
       "       0.74, 0.75, 0.76, 0.77, 0.78, 0.79, 0.8 , 0.81, 1.98, 2.02, 2.05,\n",
       "       2.99, 3.05, 3.07, 3.09, 3.11, 3.13, 3.15, 3.17, 3.19, 3.21, 3.23,\n",
       "       3.24])"
      ]
     },
     "execution_count": 60,
     "metadata": {},
     "output_type": "execute_result"
    }
   ],
   "source": [
    "foodprice['Price in USD'].unique()"
   ]
  },
  {
   "cell_type": "code",
   "execution_count": 61,
   "id": "7a8b3634",
   "metadata": {},
   "outputs": [
    {
     "name": "stdout",
     "output_type": "stream",
     "text": [
      "The minimum value is 0.69\n",
      "The maximum value is 4.03\n"
     ]
    }
   ],
   "source": [
    "min_value = foodprice['Price in USD'].min()\n",
    "max_value = foodprice['Price in USD'].max()\n",
    "\n",
    "print(\"The minimum value is\", min_value)\n",
    "print(\"The maximum value is\", max_value)"
   ]
  },
  {
   "cell_type": "code",
   "execution_count": 62,
   "id": "86f9d969",
   "metadata": {},
   "outputs": [
    {
     "data": {
      "image/png": "[encoded data removed]",
      "text/plain": [
       "<Figure size 1300x400 with 1 Axes>"
      ]
     },
     "metadata": {},
     "output_type": "display_data"
    }
   ],
   "source": [
    "usd = foodprice['Price in USD']\n",
    "\n",
    "plt.figure(figsize=(13, 4))\n",
    "plt.plot(usd, color='#8D582E', label='Price in USD')\n",
    "plt.title('Price in USD Frequency')\n",
    "plt.xlabel('Frequency')\n",
    "plt.ylabel('Price in USD')\n",
    "plt.tight_layout()\n",
    "plt.grid(True)\n",
    "plt.legend()\n",
    "\n",
    "plt.show()"
   ]
  },
  {
   "cell_type": "markdown",
   "id": "b4c4eb93",
   "metadata": {},
   "source": [
    "Comments\n",
    "\n",
    "1. No missing value in 'Price in USD' Item column.\n",
    "2. The least Represented Average Price is \"0.69\".\n",
    "3. The most represented Average Price is \"4.03\".\n",
    "5. No abnormal or outlier values were detected within these column.\n",
    "6. The Column in the \"Price in USD\" are evenly same as values in the \"Frequency\".\n",
    "\n",
    "insight\n",
    "\n",
    "1. The data suggests that the \"Price in USD\" column exhibits a fluctuating pattern in the figure, with prices rising to a peak of \"4.03\" and subsequently falling to a low of \"0.69\"."
   ]
  },
  {
   "cell_type": "markdown",
   "id": "1c7cf13e",
   "metadata": {},
   "source": [
    "# 9. Column 9 & 10"
   ]
  },
  {
   "cell_type": "code",
   "execution_count": 63,
   "id": "31d519c0",
   "metadata": {},
   "outputs": [
    {
     "data": {
      "text/html": [
       "<div>\n",
       "<style scoped>\n",
       "    .dataframe tbody tr th:only-of-type {\n",
       "        vertical-align: middle;\n",
       "    }\n",
       "\n",
       "    .dataframe tbody tr th {\n",
       "        vertical-align: top;\n",
       "    }\n",
       "\n",
       "    .dataframe thead th {\n",
       "        text-align: right;\n",
       "    }\n",
       "</style>\n",
       "<table border=\"1\" class=\"dataframe\">\n",
       "  <thead>\n",
       "    <tr style=\"text-align: right;\">\n",
       "      <th></th>\n",
       "      <th>Country</th>\n",
       "      <th>Year</th>\n",
       "      <th>Month</th>\n",
       "      <th>Food Item</th>\n",
       "      <th>Unit of Measurement</th>\n",
       "      <th>Average Price</th>\n",
       "      <th>Currency</th>\n",
       "      <th>Price in USD</th>\n",
       "      <th>Availability</th>\n",
       "      <th>Quality</th>\n",
       "    </tr>\n",
       "  </thead>\n",
       "  <tbody>\n",
       "    <tr>\n",
       "      <th>0</th>\n",
       "      <td>Australia</td>\n",
       "      <td>2018</td>\n",
       "      <td>1</td>\n",
       "      <td>Bread</td>\n",
       "      <td>Loaf</td>\n",
       "      <td>2.20</td>\n",
       "      <td>AUD</td>\n",
       "      <td>1.47</td>\n",
       "      <td>1</td>\n",
       "      <td>High</td>\n",
       "    </tr>\n",
       "    <tr>\n",
       "      <th>1</th>\n",
       "      <td>Australia</td>\n",
       "      <td>2018</td>\n",
       "      <td>2</td>\n",
       "      <td>Bread</td>\n",
       "      <td>Loaf</td>\n",
       "      <td>2.20</td>\n",
       "      <td>AUD</td>\n",
       "      <td>1.48</td>\n",
       "      <td>1</td>\n",
       "      <td>High</td>\n",
       "    </tr>\n",
       "    <tr>\n",
       "      <th>2</th>\n",
       "      <td>Australia</td>\n",
       "      <td>2018</td>\n",
       "      <td>3</td>\n",
       "      <td>Bread</td>\n",
       "      <td>Loaf</td>\n",
       "      <td>2.20</td>\n",
       "      <td>AUD</td>\n",
       "      <td>1.48</td>\n",
       "      <td>1</td>\n",
       "      <td>High</td>\n",
       "    </tr>\n",
       "    <tr>\n",
       "      <th>3</th>\n",
       "      <td>Australia</td>\n",
       "      <td>2018</td>\n",
       "      <td>4</td>\n",
       "      <td>Bread</td>\n",
       "      <td>Loaf</td>\n",
       "      <td>2.21</td>\n",
       "      <td>AUD</td>\n",
       "      <td>1.48</td>\n",
       "      <td>1</td>\n",
       "      <td>High</td>\n",
       "    </tr>\n",
       "    <tr>\n",
       "      <th>4</th>\n",
       "      <td>Australia</td>\n",
       "      <td>2018</td>\n",
       "      <td>5</td>\n",
       "      <td>Bread</td>\n",
       "      <td>Loaf</td>\n",
       "      <td>2.21</td>\n",
       "      <td>AUD</td>\n",
       "      <td>1.48</td>\n",
       "      <td>1</td>\n",
       "      <td>High</td>\n",
       "    </tr>\n",
       "  </tbody>\n",
       "</table>\n",
       "</div>"
      ],
      "text/plain": [
       "    Country   Year   Month  Food Item  Unit of Measurement  Average Price   \\\n",
       "0  Australia   2018       1      Bread                Loaf            2.20   \n",
       "1  Australia   2018       2      Bread                Loaf            2.20   \n",
       "2  Australia   2018       3      Bread                Loaf            2.20   \n",
       "3  Australia   2018       4      Bread                Loaf            2.21   \n",
       "4  Australia   2018       5      Bread                Loaf            2.21   \n",
       "\n",
       "  Currency   Price in USD  Availability  Quality   \n",
       "0       AUD          1.47              1     High  \n",
       "1       AUD          1.48              1     High  \n",
       "2       AUD          1.48              1     High  \n",
       "3       AUD          1.48              1     High  \n",
       "4       AUD          1.48              1     High  "
      ]
     },
     "execution_count": 63,
     "metadata": {},
     "output_type": "execute_result"
    }
   ],
   "source": [
    "foodprice.head()"
   ]
  },
  {
   "cell_type": "code",
   "execution_count": 64,
   "id": "929165a2",
   "metadata": {},
   "outputs": [
    {
     "data": {
      "text/plain": [
       "0"
      ]
     },
     "execution_count": 64,
     "metadata": {},
     "output_type": "execute_result"
    }
   ],
   "source": [
    "foodprice['Availability '].isna().sum()"
   ]
  },
  {
   "cell_type": "code",
   "execution_count": 65,
   "id": "29d482b1",
   "metadata": {},
   "outputs": [
    {
     "data": {
      "text/plain": [
       "array([1], dtype=int64)"
      ]
     },
     "execution_count": 65,
     "metadata": {},
     "output_type": "execute_result"
    }
   ],
   "source": [
    "foodprice['Availability '].unique()"
   ]
  },
  {
   "cell_type": "code",
   "execution_count": 66,
   "id": "d705eb3a",
   "metadata": {},
   "outputs": [
    {
     "data": {
      "text/plain": [
       "0"
      ]
     },
     "execution_count": 66,
     "metadata": {},
     "output_type": "execute_result"
    }
   ],
   "source": [
    "foodprice['Quality '].isna().sum()"
   ]
  },
  {
   "cell_type": "code",
   "execution_count": 67,
   "id": "cb307958",
   "metadata": {},
   "outputs": [
    {
     "data": {
      "text/plain": [
       "array(['High', 'Medium'], dtype=object)"
      ]
     },
     "execution_count": 67,
     "metadata": {},
     "output_type": "execute_result"
    }
   ],
   "source": [
    "foodprice['Quality '].unique()"
   ]
  },
  {
   "cell_type": "code",
   "execution_count": 68,
   "id": "a2bf8234",
   "metadata": {},
   "outputs": [
    {
     "data": {
      "image/png": "[encoded data removed]",
      "text/plain": [
       "<Figure size 1300x400 with 1 Axes>"
      ]
     },
     "metadata": {},
     "output_type": "display_data"
    }
   ],
   "source": [
    "q = foodprice['Quality '].value_counts()\n",
    "\n",
    "plt.figure(figsize=(13, 4))\n",
    "plt.bar(q.index, q.values, color='#429b9b', edgecolor='black')\n",
    "plt.xticks(q.index)\n",
    "plt.xlabel('Quality')\n",
    "plt.ylabel('Food Items')\n",
    "plt.tight_layout()\n",
    "\n",
    "plt.show()"
   ]
  },
  {
   "cell_type": "markdown",
   "id": "71845af3",
   "metadata": {},
   "source": [
    "# B. 1. Analysis"
   ]
  },
  {
   "cell_type": "code",
   "execution_count": 69,
   "id": "ee307b8f",
   "metadata": {},
   "outputs": [
    {
     "name": "stdout",
     "output_type": "stream",
     "text": [
      "Rows with value 'Australia' in 'Country ':\n",
      "      Country   Year   Month  Food Item  Unit of Measurement  Average Price   \\\n",
      "0    Australia   2018       1      Bread                Loaf            2.20   \n",
      "1    Australia   2018       2      Bread                Loaf            2.20   \n",
      "2    Australia   2018       3      Bread                Loaf            2.20   \n",
      "3    Australia   2018       4      Bread                Loaf            2.21   \n",
      "4    Australia   2018       5      Bread                Loaf            2.21   \n",
      "..         ...    ...     ...        ...                 ...             ...   \n",
      "235  Australia   2022       8   Potatoes                1 Kg            3.99   \n",
      "236  Australia   2022       9   Potatoes                1 Kg            4.03   \n",
      "237  Australia   2022      10   Potatoes                1 Kg            4.06   \n",
      "238  Australia   2022      11   Potatoes                1 Kg            4.10   \n",
      "239  Australia   2022      12   Potatoes                1 Kg            4.13   \n",
      "\n",
      "    Currency   Price in USD  Availability  Quality   \n",
      "0         AUD          1.47              1     High  \n",
      "1         AUD          1.48              1     High  \n",
      "2         AUD          1.48              1     High  \n",
      "3         AUD          1.48              1     High  \n",
      "4         AUD          1.48              1     High  \n",
      "..        ...           ...            ...      ...  \n",
      "235       AUD          2.68              1     High  \n",
      "236       AUD          2.70              1     High  \n",
      "237       AUD          2.73              1     High  \n",
      "238       AUD          2.75              1     High  \n",
      "239       AUD          2.77              1     High  \n",
      "\n",
      "[240 rows x 10 columns]\n",
      "\n",
      "Rows with value 'Canada' in 'Country ':\n",
      "     Country   Year   Month  Food Item  Unit of Measurement  Average Price   \\\n",
      "960    Canada   2018       1      Bread                Loaf            2.87   \n",
      "961    Canada   2018       2      Bread                Loaf            2.88   \n",
      "962    Canada   2018       3      Bread                Loaf            2.88   \n",
      "963    Canada   2018       4      Bread                Loaf            2.89   \n",
      "964    Canada   2018       5      Bread                Loaf            2.89   \n",
      "...       ...    ...     ...        ...                 ...             ...   \n",
      "1195   Canada   2022       8   Potatoes                1 Kg            3.17   \n",
      "1196   Canada   2022       9   Potatoes                1 Kg            3.18   \n",
      "1197   Canada   2022      10   Potatoes                1 Kg            3.20   \n",
      "1198   Canada   2022      11   Potatoes                1 Kg            3.21   \n",
      "1199   Canada   2022      12   Potatoes                1 Kg            3.22   \n",
      "\n",
      "     Currency   Price in USD  Availability  Quality   \n",
      "960        CAD          2.18              1     High  \n",
      "961        CAD          2.19              1     High  \n",
      "962        CAD          2.19              1     High  \n",
      "963        CAD          2.19              1     High  \n",
      "964        CAD          2.20              1     High  \n",
      "...        ...           ...            ...      ...  \n",
      "1195       CAD          2.41              1     High  \n",
      "1196       CAD          2.42              1     High  \n",
      "1197       CAD          2.43              1     High  \n",
      "1198       CAD          2.44              1     High  \n",
      "1199       CAD          2.45              1     High  \n",
      "\n",
      "[240 rows x 10 columns]\n",
      "\n",
      "Rows with value 'Japan' in 'Country ':\n",
      "    Country   Year   Month  Food Item  Unit of Measurement  Average Price   \\\n",
      "480    Japan   2018       1      Bread                Loaf          186.39   \n",
      "481    Japan   2018       2      Bread                Loaf          186.87   \n",
      "482    Japan   2018       3      Bread                Loaf          187.35   \n",
      "483    Japan   2018       4      Bread                Loaf          187.83   \n",
      "484    Japan   2018       5      Bread                Loaf          188.31   \n",
      "..       ...    ...     ...        ...                 ...             ...   \n",
      "715    Japan   2022       8   Potatoes                1 Kg          414.39   \n",
      "716    Japan   2022       9   Potatoes                1 Kg          416.15   \n",
      "717    Japan   2022      10   Potatoes                1 Kg          417.91   \n",
      "718    Japan   2022      11   Potatoes                1 Kg          419.67   \n",
      "719    Japan   2022      12   Potatoes                1 Kg          421.43   \n",
      "\n",
      "    Currency   Price in USD  Availability  Quality   \n",
      "480      JPY           1.34              1     High  \n",
      "481      JPY           1.35              1     High  \n",
      "482      JPY           1.35              1     High  \n",
      "483      JPY           1.35              1     High  \n",
      "484      JPY           1.36              1     High  \n",
      "..        ...           ...            ...      ...  \n",
      "715      JPY           2.98              1     High  \n",
      "716      JPY           3.00              1     High  \n",
      "717      JPY           3.01              1     High  \n",
      "718      JPY           3.02              1     High  \n",
      "719      JPY           3.03              1     High  \n",
      "\n",
      "[240 rows x 10 columns]\n",
      "\n",
      "Rows with value 'South Africa' in 'Country ':\n",
      "         Country   Year   Month  Food Item  Unit of Measurement  \\\n",
      "720  South Africa   2018       1      Bread                Loaf   \n",
      "721  South Africa   2018       2      Bread                Loaf   \n",
      "722  South Africa   2018       3      Bread                Loaf   \n",
      "723  South Africa   2018       4      Bread                Loaf   \n",
      "724  South Africa   2018       5      Bread                Loaf   \n",
      "..            ...    ...     ...        ...                 ...   \n",
      "955  South Africa   2022       8   Potatoes                1 Kg   \n",
      "956  South Africa   2022       9   Potatoes                1 Kg   \n",
      "957  South Africa   2022      10   Potatoes                1 Kg   \n",
      "958  South Africa   2022      11   Potatoes                1 Kg   \n",
      "959  South Africa   2022      12   Potatoes                1 Kg   \n",
      "\n",
      "     Average Price  Currency   Price in USD  Availability  Quality   \n",
      "720           12.57       ZAR          0.69              1   Medium  \n",
      "721           12.62       ZAR          0.70              1   Medium  \n",
      "722           12.67       ZAR          0.70              1   Medium  \n",
      "723           12.73       ZAR          0.70              1   Medium  \n",
      "724           12.78       ZAR          0.71              1   Medium  \n",
      "..              ...       ...           ...            ...      ...  \n",
      "955           19.00       ZAR          1.05              1   Medium  \n",
      "956           19.09       ZAR          1.05              1   Medium  \n",
      "957           19.17       ZAR          1.06              1   Medium  \n",
      "958           19.26       ZAR          1.06              1   Medium  \n",
      "959           19.34       ZAR          1.07              1   Medium  \n",
      "\n",
      "[240 rows x 10 columns]\n",
      "\n",
      "Rows with value 'Sweden' in 'Country ':\n",
      "    Country   Year   Month  Food Item  Unit of Measurement  Average Price   \\\n",
      "240   Sweden   2018       1      Bread                Loaf           18.61   \n",
      "241   Sweden   2018       2      Bread                Loaf           18.66   \n",
      "242   Sweden   2018       3      Bread                Loaf           18.71   \n",
      "243   Sweden   2018       4      Bread                Loaf           18.76   \n",
      "244   Sweden   2018       5      Bread                Loaf           18.81   \n",
      "..       ...    ...     ...        ...                 ...             ...   \n",
      "475   Sweden   2022       8   Potatoes                1 Kg           13.75   \n",
      "476   Sweden   2022       9   Potatoes                1 Kg           13.87   \n",
      "477   Sweden   2022      10   Potatoes                1 Kg           13.99   \n",
      "478   Sweden   2022      11   Potatoes                1 Kg           14.11   \n",
      "479   Sweden   2022      12   Potatoes                1 Kg           14.23   \n",
      "\n",
      "    Currency   Price in USD  Availability  Quality   \n",
      "240        Kr          1.82              1     High  \n",
      "241        Kr          1.83              1     High  \n",
      "242        Kr          1.83              1     High  \n",
      "243        Kr          1.84              1     High  \n",
      "244        Kr          1.84              1     High  \n",
      "..        ...           ...            ...      ...  \n",
      "475        Kr          1.35              1     High  \n",
      "476        Kr          1.36              1     High  \n",
      "477        Kr          1.37              1     High  \n",
      "478        Kr          1.38              1     High  \n",
      "479        Kr          1.39              1     High  \n",
      "\n",
      "[240 rows x 10 columns]\n",
      "\n"
     ]
    }
   ],
   "source": [
    "grouped_data = foodprice.groupby('Country ')\n",
    "\n",
    "for value, group in grouped_data:\n",
    "    print(f\"Rows with value '{value}' in 'Country ':\")\n",
    "    print(group)\n",
    "    print()\n"
   ]
  },
  {
   "cell_type": "code",
   "execution_count": 70,
   "id": "140ea040",
   "metadata": {},
   "outputs": [
    {
     "data": {
      "image/png": "[encoded data removed]",
      "text/plain": [
       "<Figure size 1300x400 with 1 Axes>"
      ]
     },
     "metadata": {},
     "output_type": "display_data"
    }
   ],
   "source": [
    "plt.figure(figsize=(13, 4))\n",
    "plt.scatter(foodprice['Currency '], foodprice['Average Price '], color='#853288')\n",
    "plt.xlabel('Currency ')\n",
    "plt.ylabel('Average Price ')\n",
    "plt.title('Price in Different Currency')\n",
    "plt.tight_layout()\n",
    "plt.grid(True, color='#c4c4c4')\n",
    "\n",
    "plt.show()"
   ]
  },
  {
   "cell_type": "code",
   "execution_count": 71,
   "id": "7ab4bca6",
   "metadata": {},
   "outputs": [
    {
     "data": {
      "image/png": "[encoded data removed]",
      "text/plain": [
       "<Figure size 1300x400 with 1 Axes>"
      ]
     },
     "metadata": {},
     "output_type": "display_data"
    }
   ],
   "source": [
    "plt.figure(figsize=(13, 4))\n",
    "plt.scatter(foodprice['Food Item '], foodprice['Average Price '], color='#b04058')\n",
    "plt.xlabel('Food Item ')\n",
    "plt.ylabel('Average Price ')\n",
    "plt.title('Food items Average Price')\n",
    "plt.tight_layout()\n",
    "plt.grid(True, color='#c4c4c4')\n",
    "\n",
    "plt.show()"
   ]
  },
  {
   "cell_type": "code",
   "execution_count": 72,
   "id": "2eee2752",
   "metadata": {},
   "outputs": [
    {
     "data": {
      "image/png": "[encoded data removed]",
      "text/plain": [
       "<Figure size 1300x400 with 1 Axes>"
      ]
     },
     "metadata": {},
     "output_type": "display_data"
    }
   ],
   "source": [
    "plt.figure(figsize=(13, 4))\n",
    "plt.scatter(foodprice['Food Item '], foodprice['Price in USD'], color='#c6057c')\n",
    "plt.xlabel('Food Item')\n",
    "plt.ylabel('Price in USD')\n",
    "plt.title('Food item In US Dollars')\n",
    "plt.tight_layout()\n",
    "plt.grid(True, color='#c4c4c4')\n",
    "\n",
    "plt.show()"
   ]
  },
  {
   "cell_type": "markdown",
   "id": "8934f844",
   "metadata": {},
   "source": [
    "# 2. Final findings and analysis"
   ]
  },
  {
   "cell_type": "markdown",
   "id": "93027b5c",
   "metadata": {},
   "source": [
    "Upon this extinsive analysis, the following findings were cocluded:\n",
    "\n",
    "1. Based on the analysis, the dataset appears to be clean and well-structured, containing a total of 1200 rows and 10 columns. No abnormal or outlier values were detected during the examination of the data. This suggests that the dataset is reliable and suitable for further analysis and modeling, providing a solid foundation for drawing meaningful insights and making informed decisions based on the information it contains.\n",
    "2. Additionally, it was observed that all the columns related to \"Country\" and \"Year\" are evenly represented within the dataset, indicating that there are no significant variations in their frequencies. This uniform distribution across these columns further enhances the reliability of the dataset, ensuring that each country and year is adequately represented in the data, making it well-suited for conducting comprehensive analyses and drawing unbiased conclusions.\n",
    "3. The analysis also revealed that the columns corresponding to \"Month,\" \"Food Item,\" and \"Currency\" are evenly represented in terms of their values' frequencies. This means that each month, food item, and currency appears a similar number of times in the dataset, ensuring a balanced distribution of data across these specific attributes. Such uniformity enhances the dataset's reliability and reduces potential biases, making it suitable for conducting accurate analyses and drawing fair comparisons among different months, food items, and currencies recorded in the data. Researchers and analysts can have confidence in the consistency of these columns, enabling them to derive meaningful insights and make informed decisions based on this valuable information.\n",
    "4. Based on the insightful analysis of column 5, \"Unit of Measurement,\" it is evident that there are no missing values, and the data is well-represented. The most frequent unit is \"1 Kg,\" while the least frequent is \"1 L.\" No abnormalities or outliers were detected within this column. Importantly, all four units of measurement are evenly represented, showing a 120-point difference between the least represented (\"1 L\") and the most represented (\"1 Kg\") units. This robustness in data distribution ensures the reliability of the dataset and allows for accurate analysis and valuable insights to be drawn from the information it contains.\n",
    "5. The 'Average Price' column in column 6 contains no missing values and exhibits a range of prices. The most common average price observed is 421.43, while the least represented average price is 1.22. No abnormal or outlier values were detected in this column. The data suggests that average prices remained relatively stable between frequencies 400 and 600, followed by fluctuations leading to a peak at 421.43. Subsequently, prices declined between frequencies 600 and 800 before settling at a relatively lower position until reaching frequency 1200. The fluctuations in average prices appear to be influenced by the strength of the dollar, indicating that prices tend to increase when the currency is weak and remain lower when the currency is strong. Additionally, the inclusion of the Japanese yen currency in the dataset seems to have contributed to the significant upward surge in average prices.\n",
    "6. Based on the provided comments and insights, the following statement can be made regarding column 8, which represents the 'Price in USD' of items, The 'Price in USD' column shows no missing values and encompasses a range of prices. The most common average price observed is 4.03, while the least represented average price is 0.69. No abnormal or outlier values were identified in this column. Notably, the data suggests a fluctuating pattern in the figure, with prices rising to a peak of 4.03 and subsequently declining to a low of 0.69."
   ]
  },
  {
   "cell_type": "code",
   "execution_count": null,
   "id": "d454ac7f",
   "metadata": {},
   "outputs": [],
   "source": []
  }
 ],
 "metadata": {
  "kernelspec": {
   "display_name": "Python 3 (ipykernel)",
   "language": "python",
   "name": "python3"
  },
  "language_info": {
   "codemirror_mode": {
    "name": "ipython",
    "version": 3
   },
   "file_extension": ".py",
   "mimetype": "text/x-python",
   "name": "python",
   "nbconvert_exporter": "python",
   "pygments_lexer": "ipython3",
   "version": "3.11.2"
  }
 },
 "nbformat": 4,
 "nbformat_minor": 5
}
